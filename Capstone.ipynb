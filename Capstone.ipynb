{
 "cells": [
  {
   "cell_type": "markdown",
   "metadata": {},
   "source": [
    "### Initial test just running a simple regression test\n",
    "In this case, we won't do any feature engineering, we'll just run the linear regression model from sci-kit learn and see what we get"
   ]
  },
  {
   "cell_type": "code",
   "execution_count": 49,
   "metadata": {
    "collapsed": true
   },
   "outputs": [],
   "source": [
    "import pandas as pd\n",
    "import numpy as np\n",
    "import matplotlib.pyplot as plt\n",
    "\n",
    "%matplotlib inline\n",
    "\n",
    "plt.style.use('ggplot')\n",
    "\n",
    "# read training values and labels\n",
    "X_train = pd.read_csv('data/final/public/train_values.csv', index_col=0)\n",
    "y_train = pd.read_csv('data/final/public/train_labels.csv', index_col=0)\n",
    "\n",
    "# read test values\n",
    "X_test = pd.read_csv('data/final/public/test_values.csv', index_col=0)"
   ]
  },
  {
   "cell_type": "code",
   "execution_count": 50,
   "metadata": {},
   "outputs": [
    {
     "data": {
      "text/html": [
       "<div>\n",
       "<style>\n",
       "    .dataframe thead tr:only-child th {\n",
       "        text-align: right;\n",
       "    }\n",
       "\n",
       "    .dataframe thead th {\n",
       "        text-align: left;\n",
       "    }\n",
       "\n",
       "    .dataframe tbody tr th {\n",
       "        vertical-align: top;\n",
       "    }\n",
       "</style>\n",
       "<table border=\"1\" class=\"dataframe\">\n",
       "  <thead>\n",
       "    <tr style=\"text-align: right;\">\n",
       "      <th></th>\n",
       "      <th>income</th>\n",
       "    </tr>\n",
       "  </thead>\n",
       "  <tbody>\n",
       "    <tr>\n",
       "      <th>count</th>\n",
       "      <td>17107.000000</td>\n",
       "    </tr>\n",
       "    <tr>\n",
       "      <th>mean</th>\n",
       "      <td>30.592003</td>\n",
       "    </tr>\n",
       "    <tr>\n",
       "      <th>std</th>\n",
       "      <td>11.302597</td>\n",
       "    </tr>\n",
       "    <tr>\n",
       "      <th>min</th>\n",
       "      <td>9.400000</td>\n",
       "    </tr>\n",
       "    <tr>\n",
       "      <th>25%</th>\n",
       "      <td>23.000000</td>\n",
       "    </tr>\n",
       "    <tr>\n",
       "      <th>50%</th>\n",
       "      <td>28.700000</td>\n",
       "    </tr>\n",
       "    <tr>\n",
       "      <th>75%</th>\n",
       "      <td>35.600000</td>\n",
       "    </tr>\n",
       "    <tr>\n",
       "      <th>max</th>\n",
       "      <td>151.500000</td>\n",
       "    </tr>\n",
       "  </tbody>\n",
       "</table>\n",
       "</div>"
      ],
      "text/plain": [
       "             income\n",
       "count  17107.000000\n",
       "mean      30.592003\n",
       "std       11.302597\n",
       "min        9.400000\n",
       "25%       23.000000\n",
       "50%       28.700000\n",
       "75%       35.600000\n",
       "max      151.500000"
      ]
     },
     "execution_count": 50,
     "metadata": {},
     "output_type": "execute_result"
    }
   ],
   "source": [
    "y_train.describe()"
   ]
  },
  {
   "cell_type": "code",
   "execution_count": 51,
   "metadata": {},
   "outputs": [
    {
     "data": {
      "text/plain": [
       "<matplotlib.axes._subplots.AxesSubplot at 0x1b187812780>"
      ]
     },
     "execution_count": 51,
     "metadata": {},
     "output_type": "execute_result"
    },
    {
     "data": {
      "image/png": "[encoded data removed]",
      "text/plain": [
       "<matplotlib.figure.Figure at 0x1b1864eecf8>"
      ]
     },
     "metadata": {},
     "output_type": "display_data"
    }
   ],
   "source": [
    "y_train.plot.hist()"
   ]
  },
  {
   "cell_type": "code",
   "execution_count": 89,
   "metadata": {},
   "outputs": [
    {
     "data": {
      "text/plain": [
       "<matplotlib.legend.Legend at 0x1b186aac860>"
      ]
     },
     "execution_count": 89,
     "metadata": {},
     "output_type": "execute_result"
    },
    {
     "data": {
      "image/png": "[encoded data removed]",
      "text/plain": [
       "<matplotlib.figure.Figure at 0x1b1883f2ac8>"
      ]
     },
     "metadata": {},
     "output_type": "display_data"
    }
   ],
   "source": [
    "yrange = y_train.max() - y_train.min()\n",
    "interval = yrange / 4\n",
    "\n",
    "binnedY = np.digitize(y_train, np.array([0, interval, interval*2, interval*3]))\n"
   ]
  },
  {
   "cell_type": "code",
   "execution_count": 909,
   "metadata": {},
   "outputs": [
    {
     "data": {
      "text/plain": [
       "Private for-profit    7436\n",
       "Public                5488\n",
       "Private nonprofit     4183\n",
       "Name: school__ownership, dtype: int64"
      ]
     },
     "execution_count": 909,
     "metadata": {},
     "output_type": "execute_result"
    }
   ],
   "source": [
    "X_train['school__ownership'].value_counts()"
   ]
  },
  {
   "cell_type": "code",
   "execution_count": 910,
   "metadata": {},
   "outputs": [
    {
     "name": "stdout",
     "output_type": "stream",
     "text": [
      "7436\n",
      "5488\n",
      "4183\n"
     ]
    }
   ],
   "source": [
    "private_non_profit = y_train[X_train['school__ownership'] == 'Private nonprofit']\n",
    "public = y_train[X_train['school__ownership'] == 'Public']\n",
    "private_profit = y_train[X_train['school__ownership'] == 'Private for-profit']\n",
    "\n",
    "print private_profit.shape[0]\n",
    "print public.shape[0]\n",
    "print private_non_profit.shape[0]"
   ]
  },
  {
   "cell_type": "code",
   "execution_count": 911,
   "metadata": {},
   "outputs": [
    {
     "data": {
      "text/html": [
       "<div>\n",
       "<style>\n",
       "    .dataframe thead tr:only-child th {\n",
       "        text-align: right;\n",
       "    }\n",
       "\n",
       "    .dataframe thead th {\n",
       "        text-align: left;\n",
       "    }\n",
       "\n",
       "    .dataframe tbody tr th {\n",
       "        vertical-align: top;\n",
       "    }\n",
       "</style>\n",
       "<table border=\"1\" class=\"dataframe\">\n",
       "  <thead>\n",
       "    <tr style=\"text-align: right;\">\n",
       "      <th></th>\n",
       "      <th>income</th>\n",
       "    </tr>\n",
       "  </thead>\n",
       "  <tbody>\n",
       "    <tr>\n",
       "      <th>count</th>\n",
       "      <td>5488.000000</td>\n",
       "    </tr>\n",
       "    <tr>\n",
       "      <th>mean</th>\n",
       "      <td>31.298852</td>\n",
       "    </tr>\n",
       "    <tr>\n",
       "      <th>std</th>\n",
       "      <td>8.583190</td>\n",
       "    </tr>\n",
       "    <tr>\n",
       "      <th>min</th>\n",
       "      <td>13.300000</td>\n",
       "    </tr>\n",
       "    <tr>\n",
       "      <th>25%</th>\n",
       "      <td>26.300000</td>\n",
       "    </tr>\n",
       "    <tr>\n",
       "      <th>50%</th>\n",
       "      <td>29.600000</td>\n",
       "    </tr>\n",
       "    <tr>\n",
       "      <th>75%</th>\n",
       "      <td>34.300000</td>\n",
       "    </tr>\n",
       "    <tr>\n",
       "      <th>max</th>\n",
       "      <td>143.600000</td>\n",
       "    </tr>\n",
       "  </tbody>\n",
       "</table>\n",
       "</div>"
      ],
      "text/plain": [
       "            income\n",
       "count  5488.000000\n",
       "mean     31.298852\n",
       "std       8.583190\n",
       "min      13.300000\n",
       "25%      26.300000\n",
       "50%      29.600000\n",
       "75%      34.300000\n",
       "max     143.600000"
      ]
     },
     "execution_count": 911,
     "metadata": {},
     "output_type": "execute_result"
    }
   ],
   "source": [
    "public.describe()"
   ]
  },
  {
   "cell_type": "code",
   "execution_count": 912,
   "metadata": {},
   "outputs": [
    {
     "data": {
      "text/html": [
       "<div>\n",
       "<style>\n",
       "    .dataframe thead tr:only-child th {\n",
       "        text-align: right;\n",
       "    }\n",
       "\n",
       "    .dataframe thead th {\n",
       "        text-align: left;\n",
       "    }\n",
       "\n",
       "    .dataframe tbody tr th {\n",
       "        vertical-align: top;\n",
       "    }\n",
       "</style>\n",
       "<table border=\"1\" class=\"dataframe\">\n",
       "  <thead>\n",
       "    <tr style=\"text-align: right;\">\n",
       "      <th></th>\n",
       "      <th>income</th>\n",
       "    </tr>\n",
       "  </thead>\n",
       "  <tbody>\n",
       "    <tr>\n",
       "      <th>count</th>\n",
       "      <td>7436.000000</td>\n",
       "    </tr>\n",
       "    <tr>\n",
       "      <th>mean</th>\n",
       "      <td>26.205836</td>\n",
       "    </tr>\n",
       "    <tr>\n",
       "      <th>std</th>\n",
       "      <td>9.222184</td>\n",
       "    </tr>\n",
       "    <tr>\n",
       "      <th>min</th>\n",
       "      <td>9.400000</td>\n",
       "    </tr>\n",
       "    <tr>\n",
       "      <th>25%</th>\n",
       "      <td>19.800000</td>\n",
       "    </tr>\n",
       "    <tr>\n",
       "      <th>50%</th>\n",
       "      <td>23.700000</td>\n",
       "    </tr>\n",
       "    <tr>\n",
       "      <th>75%</th>\n",
       "      <td>30.800000</td>\n",
       "    </tr>\n",
       "    <tr>\n",
       "      <th>max</th>\n",
       "      <td>83.300000</td>\n",
       "    </tr>\n",
       "  </tbody>\n",
       "</table>\n",
       "</div>"
      ],
      "text/plain": [
       "            income\n",
       "count  7436.000000\n",
       "mean     26.205836\n",
       "std       9.222184\n",
       "min       9.400000\n",
       "25%      19.800000\n",
       "50%      23.700000\n",
       "75%      30.800000\n",
       "max      83.300000"
      ]
     },
     "execution_count": 912,
     "metadata": {},
     "output_type": "execute_result"
    }
   ],
   "source": [
    "private_profit.describe()"
   ]
  },
  {
   "cell_type": "code",
   "execution_count": 913,
   "metadata": {},
   "outputs": [
    {
     "data": {
      "text/html": [
       "<div>\n",
       "<style>\n",
       "    .dataframe thead tr:only-child th {\n",
       "        text-align: right;\n",
       "    }\n",
       "\n",
       "    .dataframe thead th {\n",
       "        text-align: left;\n",
       "    }\n",
       "\n",
       "    .dataframe tbody tr th {\n",
       "        vertical-align: top;\n",
       "    }\n",
       "</style>\n",
       "<table border=\"1\" class=\"dataframe\">\n",
       "  <thead>\n",
       "    <tr style=\"text-align: right;\">\n",
       "      <th></th>\n",
       "      <th>income</th>\n",
       "    </tr>\n",
       "  </thead>\n",
       "  <tbody>\n",
       "    <tr>\n",
       "      <th>count</th>\n",
       "      <td>4183.000000</td>\n",
       "    </tr>\n",
       "    <tr>\n",
       "      <th>mean</th>\n",
       "      <td>37.461798</td>\n",
       "    </tr>\n",
       "    <tr>\n",
       "      <th>std</th>\n",
       "      <td>13.878329</td>\n",
       "    </tr>\n",
       "    <tr>\n",
       "      <th>min</th>\n",
       "      <td>11.900000</td>\n",
       "    </tr>\n",
       "    <tr>\n",
       "      <th>25%</th>\n",
       "      <td>28.900000</td>\n",
       "    </tr>\n",
       "    <tr>\n",
       "      <th>50%</th>\n",
       "      <td>35.600000</td>\n",
       "    </tr>\n",
       "    <tr>\n",
       "      <th>75%</th>\n",
       "      <td>43.000000</td>\n",
       "    </tr>\n",
       "    <tr>\n",
       "      <th>max</th>\n",
       "      <td>151.500000</td>\n",
       "    </tr>\n",
       "  </tbody>\n",
       "</table>\n",
       "</div>"
      ],
      "text/plain": [
       "            income\n",
       "count  4183.000000\n",
       "mean     37.461798\n",
       "std      13.878329\n",
       "min      11.900000\n",
       "25%      28.900000\n",
       "50%      35.600000\n",
       "75%      43.000000\n",
       "max     151.500000"
      ]
     },
     "execution_count": 913,
     "metadata": {},
     "output_type": "execute_result"
    }
   ],
   "source": [
    "private_non_profit.describe()"
   ]
  },
  {
   "cell_type": "code",
   "execution_count": 914,
   "metadata": {},
   "outputs": [
    {
     "data": {
      "text/plain": [
       "<matplotlib.collections.PathCollection at 0x115936a58>"
      ]
     },
     "execution_count": 914,
     "metadata": {},
     "output_type": "execute_result"
    },
    {
     "data": {
      "image/png": "[encoded data removed]",
      "text/plain": [
       "<matplotlib.figure.Figure at 0xb4dce7b8>"
      ]
     },
     "metadata": {},
     "output_type": "display_data"
    }
   ],
   "source": [
    "fig = plt.figure(figsize=(12,6))\n",
    "plt.scatter(X_train['school__faculty_salary'], y_train['income'])"
   ]
  },
  {
   "cell_type": "code",
   "execution_count": 915,
   "metadata": {},
   "outputs": [
    {
     "data": {
      "text/plain": [
       "<matplotlib.axes._subplots.AxesSubplot at 0x137b793c8>"
      ]
     },
     "execution_count": 915,
     "metadata": {},
     "output_type": "execute_result"
    },
    {
     "data": {
      "image/png": "[encoded data removed]",
      "text/plain": [
       "<matplotlib.figure.Figure at 0xc2e459e8>"
      ]
     },
     "metadata": {},
     "output_type": "display_data"
    },
    {
     "data": {
      "image/png": "[encoded data removed]",
      "text/plain": [
       "<matplotlib.figure.Figure at 0x11f19c710>"
      ]
     },
     "metadata": {},
     "output_type": "display_data"
    }
   ],
   "source": [
    "y_train[X_train['school__degrees_awarded_predominant'] == 'Entirely graduate-degree granting'].plot.box(title='Entirely Graduate')\n",
    "y_train[X_train['school__degrees_awarded_predominant'] != 'Entirely graduate-degree granting'].plot.box(title='All Other')\n"
   ]
  },
  {
   "cell_type": "code",
   "execution_count": 916,
   "metadata": {},
   "outputs": [
    {
     "name": "stdout",
     "output_type": "stream",
     "text": [
      "           income\n",
      "count  186.000000\n",
      "mean    62.909677\n",
      "std     25.329080\n",
      "min     18.600000\n",
      "25%     41.925000\n",
      "50%     60.300000\n",
      "75%     79.700000\n",
      "max    151.500000\n",
      "             income\n",
      "count  16921.000000\n",
      "mean      30.236759\n",
      "std       10.513361\n",
      "min        9.400000\n",
      "25%       23.000000\n",
      "50%       28.600000\n",
      "75%       35.300000\n",
      "max      111.000000\n"
     ]
    }
   ],
   "source": [
    "e_graduate = y_train[X_train['school__degrees_awarded_predominant'] == 'Entirely graduate-degree granting']\n",
    "other = y_train[X_train['school__degrees_awarded_predominant'] != 'Entirely graduate-degree granting']\n",
    "\n",
    "print (e_graduate.describe())\n",
    "print (other.describe())"
   ]
  },
  {
   "cell_type": "code",
   "execution_count": 917,
   "metadata": {},
   "outputs": [
    {
     "name": "stdout",
     "output_type": "stream",
     "text": [
      "Graduate:  income    62.909677\n",
      "dtype: float64\n",
      "Bachelor:  income    37.625128\n",
      "dtype: float64\n"
     ]
    }
   ],
   "source": [
    "e_graduate = y_train[X_train['school__degrees_awarded_predominant'] == 'Entirely graduate-degree granting']\n",
    "p_bachelor = y_train[X_train['school__degrees_awarded_predominant'] == 'Predominantly bachelor\\'s-degree granting']\n",
    "\n",
    "print 'Graduate: ' , e_graduate.mean()\n",
    "print 'Bachelor: ', p_bachelor.mean()"
   ]
  },
  {
   "cell_type": "code",
   "execution_count": 918,
   "metadata": {},
   "outputs": [
    {
     "data": {
      "text/html": [
       "<div>\n",
       "<style>\n",
       "    .dataframe thead tr:only-child th {\n",
       "        text-align: right;\n",
       "    }\n",
       "\n",
       "    .dataframe thead th {\n",
       "        text-align: left;\n",
       "    }\n",
       "\n",
       "    .dataframe tbody tr th {\n",
       "        vertical-align: top;\n",
       "    }\n",
       "</style>\n",
       "<table border=\"1\" class=\"dataframe\">\n",
       "  <thead>\n",
       "    <tr style=\"text-align: right;\">\n",
       "      <th></th>\n",
       "      <th>income</th>\n",
       "    </tr>\n",
       "  </thead>\n",
       "  <tbody>\n",
       "    <tr>\n",
       "      <th>count</th>\n",
       "      <td>186.000000</td>\n",
       "    </tr>\n",
       "    <tr>\n",
       "      <th>mean</th>\n",
       "      <td>62.909677</td>\n",
       "    </tr>\n",
       "    <tr>\n",
       "      <th>std</th>\n",
       "      <td>25.329080</td>\n",
       "    </tr>\n",
       "    <tr>\n",
       "      <th>min</th>\n",
       "      <td>18.600000</td>\n",
       "    </tr>\n",
       "    <tr>\n",
       "      <th>25%</th>\n",
       "      <td>41.925000</td>\n",
       "    </tr>\n",
       "    <tr>\n",
       "      <th>50%</th>\n",
       "      <td>60.300000</td>\n",
       "    </tr>\n",
       "    <tr>\n",
       "      <th>75%</th>\n",
       "      <td>79.700000</td>\n",
       "    </tr>\n",
       "    <tr>\n",
       "      <th>max</th>\n",
       "      <td>151.500000</td>\n",
       "    </tr>\n",
       "  </tbody>\n",
       "</table>\n",
       "</div>"
      ],
      "text/plain": [
       "           income\n",
       "count  186.000000\n",
       "mean    62.909677\n",
       "std     25.329080\n",
       "min     18.600000\n",
       "25%     41.925000\n",
       "50%     60.300000\n",
       "75%     79.700000\n",
       "max    151.500000"
      ]
     },
     "execution_count": 918,
     "metadata": {},
     "output_type": "execute_result"
    }
   ],
   "source": [
    "e_graduate.describe()"
   ]
  },
  {
   "cell_type": "code",
   "execution_count": 919,
   "metadata": {},
   "outputs": [
    {
     "data": {
      "text/html": [
       "<div>\n",
       "<style>\n",
       "    .dataframe thead tr:only-child th {\n",
       "        text-align: right;\n",
       "    }\n",
       "\n",
       "    .dataframe thead th {\n",
       "        text-align: left;\n",
       "    }\n",
       "\n",
       "    .dataframe tbody tr th {\n",
       "        vertical-align: top;\n",
       "    }\n",
       "</style>\n",
       "<table border=\"1\" class=\"dataframe\">\n",
       "  <thead>\n",
       "    <tr style=\"text-align: right;\">\n",
       "      <th></th>\n",
       "      <th>income</th>\n",
       "    </tr>\n",
       "  </thead>\n",
       "  <tbody>\n",
       "    <tr>\n",
       "      <th>count</th>\n",
       "      <td>761.000000</td>\n",
       "    </tr>\n",
       "    <tr>\n",
       "      <th>mean</th>\n",
       "      <td>32.723127</td>\n",
       "    </tr>\n",
       "    <tr>\n",
       "      <th>std</th>\n",
       "      <td>12.132403</td>\n",
       "    </tr>\n",
       "    <tr>\n",
       "      <th>min</th>\n",
       "      <td>13.400000</td>\n",
       "    </tr>\n",
       "    <tr>\n",
       "      <th>25%</th>\n",
       "      <td>22.700000</td>\n",
       "    </tr>\n",
       "    <tr>\n",
       "      <th>50%</th>\n",
       "      <td>30.400000</td>\n",
       "    </tr>\n",
       "    <tr>\n",
       "      <th>75%</th>\n",
       "      <td>42.100000</td>\n",
       "    </tr>\n",
       "    <tr>\n",
       "      <th>max</th>\n",
       "      <td>73.000000</td>\n",
       "    </tr>\n",
       "  </tbody>\n",
       "</table>\n",
       "</div>"
      ],
      "text/plain": [
       "           income\n",
       "count  761.000000\n",
       "mean    32.723127\n",
       "std     12.132403\n",
       "min     13.400000\n",
       "25%     22.700000\n",
       "50%     30.400000\n",
       "75%     42.100000\n",
       "max     73.000000"
      ]
     },
     "execution_count": 919,
     "metadata": {},
     "output_type": "execute_result"
    }
   ],
   "source": [
    "nc = y_train[X_train['school__degrees_awarded_predominant'] == 'Not classified']\n",
    "nc.describe()"
   ]
  },
  {
   "cell_type": "code",
   "execution_count": 920,
   "metadata": {},
   "outputs": [
    {
     "name": "stdout",
     "output_type": "stream",
     "text": [
      "            income\n",
      "count  4167.000000\n",
      "mean     29.008327\n",
      "std       6.969090\n",
      "min      13.300000\n",
      "25%      25.150000\n",
      "50%      28.400000\n",
      "75%      32.100000\n",
      "max      83.300000\n",
      "            income\n",
      "count  5452.000000\n",
      "mean     37.625128\n",
      "std      10.747747\n",
      "min      11.900000\n",
      "25%      31.200000\n",
      "50%      36.200000\n",
      "75%      41.900000\n",
      "max     111.000000\n"
     ]
    }
   ],
   "source": [
    "p_associate = y_train[X_train['school__degrees_awarded_predominant'] == 'Predominantly associate\\'s-degree granting']\n",
    "p_bachelor = y_train[X_train['school__degrees_awarded_predominant'] == 'Predominantly bachelor\\'s-degree granting']\n",
    "\n",
    "print(p_associate.describe())\n",
    "print(p_bachelor.describe())"
   ]
  },
  {
   "cell_type": "code",
   "execution_count": 921,
   "metadata": {
    "scrolled": true
   },
   "outputs": [
    {
     "data": {
      "text/plain": [
       "<matplotlib.legend.Legend at 0x11e99320>"
      ]
     },
     "execution_count": 921,
     "metadata": {},
     "output_type": "execute_result"
    },
    {
     "data": {
      "image/png": "[encoded data removed]",
      "text/plain": [
       "<matplotlib.figure.Figure at 0x1335d7518>"
      ]
     },
     "metadata": {},
     "output_type": "display_data"
    }
   ],
   "source": [
    "fig = plt.figure(figsize=(12,6))\n",
    "ax = fig.add_subplot(111)\n",
    "\n",
    "#series 1\n",
    "x_temp = X_train[X_train['school__ownership'] == 'Private nonprofit']\n",
    "y_temp = y_train[X_train['school__ownership'] == 'Private nonprofit']\n",
    "ax.scatter(x_temp['school__faculty_salary'], y_temp['income'], label='Private non profit', c='r')\n",
    "\n",
    "#series 1\n",
    "x_temp = X_train[X_train['school__ownership'] == 'Private for-profit']\n",
    "y_temp = y_train[X_train['school__ownership'] == 'Private for-profit']\n",
    "ax.scatter(x_temp['school__faculty_salary'], y_temp['income'], label='Private for profit', c='b')\n",
    "\n",
    "#series 1\n",
    "x_temp = X_train[X_train['school__ownership'] == 'Public']\n",
    "y_temp = y_train[X_train['school__ownership'] == 'Public']\n",
    "ax.scatter(x_temp['school__faculty_salary'], y_temp['income'], label='Public', c='g')\n",
    "\n",
    "\n",
    "ax.set_title('Income vs Faculty Salary')\n",
    "\n",
    "ax.legend()"
   ]
  },
  {
   "cell_type": "markdown",
   "metadata": {},
   "source": [
    "# FEATURE ANALYSIS"
   ]
  },
  {
   "cell_type": "code",
   "execution_count": 2,
   "metadata": {},
   "outputs": [],
   "source": [
    "import pandas as pd\n",
    "import numpy as np\n",
    "import matplotlib.pyplot as plt\n",
    "\n",
    "%matplotlib inline\n",
    "\n",
    "plt.style.use('ggplot')\n",
    "\n",
    "\n",
    "# read training values and labels\n",
    "X = pd.read_csv('data/final/public/train_values.csv', index_col=0)\n",
    "Y = pd.read_csv('data/final/public/train_labels.csv', index_col=0)"
   ]
  },
  {
   "cell_type": "code",
   "execution_count": 3,
   "metadata": {
    "collapsed": true
   },
   "outputs": [],
   "source": [
    "#return a formatted percentage from a fraction\n",
    "def percentage(numerator, denomenator):\n",
    "    \n",
    "    if type(numerator) == pd.core.series.Series:\n",
    "        return (numerator/denomenator*100).map('{:.1f}%'.format)\n",
    "    \n",
    "    elif type(numerator) == int or type(numerator) == float:\n",
    "        return '{:.1f}%'.format(float(numerator)/float(denomenator)*100) \n",
    "    \n",
    "    else:\n",
    "        print(\"check type\")\n"
   ]
  },
  {
   "cell_type": "code",
   "execution_count": 4,
   "metadata": {
    "collapsed": true
   },
   "outputs": [],
   "source": [
    "def showCorrMatrix(df):\n",
    "    # admissions\n",
    "    matrix = df.corr()\n",
    "    \n",
    "    print (matrix)\n",
    "    \n",
    "    plt.imshow(df.corr(), cmap=plt.cm.Blues, interpolation='nearest')\n",
    "    plt.colorbar()\n",
    "    tick_marks = [i for i in range(len(df.columns))]\n",
    "    plt.xticks(tick_marks, df.columns, rotation='vertical')\n",
    "    plt.yticks(tick_marks, df.columns)\n",
    "\n",
    "    plt.show()"
   ]
  },
  {
   "cell_type": "code",
   "execution_count": 47,
   "metadata": {},
   "outputs": [
    {
     "name": "stdout",
     "output_type": "stream",
     "text": [
      "(10, 3)\n"
     ]
    },
    {
     "data": {
      "text/html": [
       "<div>\n",
       "<style>\n",
       "    .dataframe thead tr:only-child th {\n",
       "        text-align: right;\n",
       "    }\n",
       "\n",
       "    .dataframe thead th {\n",
       "        text-align: left;\n",
       "    }\n",
       "\n",
       "    .dataframe tbody tr th {\n",
       "        vertical-align: top;\n",
       "    }\n",
       "</style>\n",
       "<table border=\"1\" class=\"dataframe\">\n",
       "  <thead>\n",
       "    <tr style=\"text-align: right;\">\n",
       "      <th></th>\n",
       "      <th>feature</th>\n",
       "      <th>corr</th>\n",
       "      <th>abs</th>\n",
       "    </tr>\n",
       "  </thead>\n",
       "  <tbody>\n",
       "    <tr>\n",
       "      <th>265</th>\n",
       "      <td>income</td>\n",
       "      <td>1.000000</td>\n",
       "      <td>1.000000</td>\n",
       "    </tr>\n",
       "    <tr>\n",
       "      <th>241</th>\n",
       "      <td>school__degrees_awarded_predominant_recoded</td>\n",
       "      <td>0.598205</td>\n",
       "      <td>0.598205</td>\n",
       "    </tr>\n",
       "    <tr>\n",
       "      <th>242</th>\n",
       "      <td>school__faculty_salary</td>\n",
       "      <td>0.545972</td>\n",
       "      <td>0.545972</td>\n",
       "    </tr>\n",
       "    <tr>\n",
       "      <th>229</th>\n",
       "      <td>admissions__sat_scores_average_by_ope_id</td>\n",
       "      <td>0.534208</td>\n",
       "      <td>0.534208</td>\n",
       "    </tr>\n",
       "    <tr>\n",
       "      <th>228</th>\n",
       "      <td>admissions__act_scores_midpoint_cumulative</td>\n",
       "      <td>0.531301</td>\n",
       "      <td>0.531301</td>\n",
       "    </tr>\n",
       "    <tr>\n",
       "      <th>260</th>\n",
       "      <td>student__share_firstgeneration_parents_highschool</td>\n",
       "      <td>-0.518081</td>\n",
       "      <td>0.518081</td>\n",
       "    </tr>\n",
       "    <tr>\n",
       "      <th>215</th>\n",
       "      <td>academics__program_percentage_personal_culinary</td>\n",
       "      <td>-0.513385</td>\n",
       "      <td>0.513385</td>\n",
       "    </tr>\n",
       "    <tr>\n",
       "      <th>249</th>\n",
       "      <td>student__demographics_first_generation</td>\n",
       "      <td>-0.511933</td>\n",
       "      <td>0.511933</td>\n",
       "    </tr>\n",
       "    <tr>\n",
       "      <th>259</th>\n",
       "      <td>student__share_firstgeneration</td>\n",
       "      <td>-0.511933</td>\n",
       "      <td>0.511933</td>\n",
       "    </tr>\n",
       "    <tr>\n",
       "      <th>262</th>\n",
       "      <td>student__share_firstgeneration_parents_somecol...</td>\n",
       "      <td>0.501280</td>\n",
       "      <td>0.501280</td>\n",
       "    </tr>\n",
       "  </tbody>\n",
       "</table>\n",
       "</div>"
      ],
      "text/plain": [
       "                                               feature      corr       abs\n",
       "265                                             income  1.000000  1.000000\n",
       "241        school__degrees_awarded_predominant_recoded  0.598205  0.598205\n",
       "242                             school__faculty_salary  0.545972  0.545972\n",
       "229           admissions__sat_scores_average_by_ope_id  0.534208  0.534208\n",
       "228         admissions__act_scores_midpoint_cumulative  0.531301  0.531301\n",
       "260  student__share_firstgeneration_parents_highschool -0.518081  0.518081\n",
       "215    academics__program_percentage_personal_culinary -0.513385  0.513385\n",
       "249             student__demographics_first_generation -0.511933  0.511933\n",
       "259                     student__share_firstgeneration -0.511933  0.511933\n",
       "262  student__share_firstgeneration_parents_somecol...  0.501280  0.501280"
      ]
     },
     "execution_count": 47,
     "metadata": {},
     "output_type": "execute_result"
    }
   ],
   "source": [
    "X['income'] =  np.log(Y['income'])\n",
    "filter_col = [col for col in X if col.startswith('admissions')]\n",
    "filter_col.remove('admissions__sat_scores_average_by_ope_id')\n",
    "filter_col.remove('admissions__act_scores_midpoint_cumulative')\n",
    "\n",
    "X_new = X.drop(filter_col, axis=1)\n",
    "\n",
    "X_numeric = X_new.select_dtypes(include=[np.number])\n",
    "corr_results = pd.DataFrame()\n",
    "corr_results['feature'] = X_numeric.columns\n",
    "corr_results['corr'] = np.zeros(X_numeric.shape[1])\n",
    "\n",
    "\n",
    "for x in range(X_numeric.shape[1]):\n",
    "    corr_results.iloc[x, 1] = X['income'].corr(X_numeric.iloc[:,x])\n",
    "    \n",
    "import math\n",
    "corr_results['abs'] = corr_results['corr'].apply(lambda x: math.fabs(x))\n",
    "\n",
    "print (corr_results[corr_results['abs'] >= 0.5].shape)\n",
    "corr_results[corr_results['abs'] >= 0.5].sort_values(by='abs', ascending=False)\n"
   ]
  },
  {
   "cell_type": "code",
   "execution_count": null,
   "metadata": {},
   "outputs": [],
   "source": [
    "from sklearn.manifold import Isomap\n",
    "from sklearn.preprocessing import RobustScaler\n",
    "from sklearn.preprocessing import Imputer\n",
    "\n",
    "categorical = X.select_dtypes(exclude=[np.number])\n",
    "X_new = pd.get_dummies(X,columns=categorical.columns)\n",
    "\n",
    "imputer = Imputer(strategy='median')\n",
    "X_new = imputer.fit_transform(X_new)\n",
    "\n",
    "scaler = RobustScaler()\n",
    "X_new = scaler.fit_transform(X_new)\n",
    "\n",
    "X_iso = Isomap(n_components=2).fit_transform(X_new)\n",
    "\n",
    "fig = plt.figure(figsize=(12,6))\n",
    "plt.scatter(X_iso.iloc[:,0], X_iso.iloc[:,1])\n",
    "plt.show()"
   ]
  },
  {
   "cell_type": "markdown",
   "metadata": {},
   "source": [
    "### ADMISSION COLUMNS"
   ]
  },
  {
   "cell_type": "code",
   "execution_count": 925,
   "metadata": {
    "scrolled": false
   },
   "outputs": [
    {
     "data": {
      "text/plain": [
       "admissions__act_scores_25th_percentile_cumulative          21.6%\n",
       "admissions__act_scores_25th_percentile_english             18.3%\n",
       "admissions__act_scores_25th_percentile_math                18.3%\n",
       "admissions__act_scores_25th_percentile_writing              2.5%\n",
       "admissions__act_scores_75th_percentile_cumulative          21.6%\n",
       "admissions__act_scores_75th_percentile_english             18.3%\n",
       "admissions__act_scores_75th_percentile_math                18.3%\n",
       "admissions__act_scores_75th_percentile_writing              2.5%\n",
       "admissions__act_scores_midpoint_cumulative                 21.6%\n",
       "admissions__act_scores_midpoint_english                    18.3%\n",
       "admissions__act_scores_midpoint_math                       18.3%\n",
       "admissions__act_scores_midpoint_writing                     2.5%\n",
       "admissions__admission_rate_by_ope_id                       43.7%\n",
       "admissions__admission_rate_overall                         39.0%\n",
       "admissions__sat_scores_25th_percentile_critical_reading    20.9%\n",
       "admissions__sat_scores_25th_percentile_math                21.2%\n",
       "admissions__sat_scores_25th_percentile_writing             11.6%\n",
       "admissions__sat_scores_75th_percentile_critical_reading    20.9%\n",
       "admissions__sat_scores_75th_percentile_math                21.2%\n",
       "admissions__sat_scores_75th_percentile_writing             11.6%\n",
       "admissions__sat_scores_average_by_ope_id                   25.4%\n",
       "admissions__sat_scores_average_overall                     23.5%\n",
       "admissions__sat_scores_midpoint_critical_reading           20.9%\n",
       "admissions__sat_scores_midpoint_math                       21.2%\n",
       "admissions__sat_scores_midpoint_writing                    11.6%\n",
       "dtype: object"
      ]
     },
     "execution_count": 925,
     "metadata": {},
     "output_type": "execute_result"
    }
   ],
   "source": [
    "def removeAdmissions(df):    \n",
    "    filter_col = [col for col in df if col.startswith('admissions')]\n",
    "    filter_col.remove('admissions__sat_scores_average_overall')    \n",
    "    df = df.drop(filter_col, axis=1)\n",
    "    return df\n",
    "\n",
    "filter = [col for col in X if col.startswith('admissions')]\n",
    "admissions = X.loc[:, filter]\n",
    "\n",
    "percentage(admissions.count()-1, admissions.shape[0]-1)\n"
   ]
  },
  {
   "cell_type": "code",
   "execution_count": 926,
   "metadata": {
    "scrolled": false
   },
   "outputs": [
    {
     "data": {
      "image/png": "[encoded data removed]",
      "text/plain": [
       "<matplotlib.figure.Figure at 0x133606e10>"
      ]
     },
     "metadata": {},
     "output_type": "display_data"
    },
    {
     "data": {
      "image/png": "[encoded data removed]",
      "text/plain": [
       "<matplotlib.figure.Figure at 0xc3333710>"
      ]
     },
     "metadata": {},
     "output_type": "display_data"
    },
    {
     "data": {
      "text/html": [
       "<div>\n",
       "<style>\n",
       "    .dataframe thead tr:only-child th {\n",
       "        text-align: right;\n",
       "    }\n",
       "\n",
       "    .dataframe thead th {\n",
       "        text-align: left;\n",
       "    }\n",
       "\n",
       "    .dataframe tbody tr th {\n",
       "        vertical-align: top;\n",
       "    }\n",
       "</style>\n",
       "<table border=\"1\" class=\"dataframe\">\n",
       "  <thead>\n",
       "    <tr style=\"text-align: right;\">\n",
       "      <th></th>\n",
       "      <th>academics__program_percentage_agriculture</th>\n",
       "      <th>academics__program_percentage_architecture</th>\n",
       "      <th>academics__program_percentage_biological</th>\n",
       "      <th>academics__program_percentage_business_marketing</th>\n",
       "      <th>academics__program_percentage_communication</th>\n",
       "      <th>academics__program_percentage_communications_technology</th>\n",
       "      <th>academics__program_percentage_computer</th>\n",
       "      <th>academics__program_percentage_construction</th>\n",
       "      <th>academics__program_percentage_education</th>\n",
       "      <th>academics__program_percentage_engineering</th>\n",
       "      <th>...</th>\n",
       "      <th>academics__program_percentage_psychology</th>\n",
       "      <th>academics__program_percentage_public_administration_social_service</th>\n",
       "      <th>academics__program_percentage_resources</th>\n",
       "      <th>academics__program_percentage_science_technology</th>\n",
       "      <th>academics__program_percentage_security_law_enforcement</th>\n",
       "      <th>academics__program_percentage_social_science</th>\n",
       "      <th>academics__program_percentage_theology_religious_vocation</th>\n",
       "      <th>academics__program_percentage_transportation</th>\n",
       "      <th>academics__program_percentage_visual_performing</th>\n",
       "      <th>income</th>\n",
       "    </tr>\n",
       "    <tr>\n",
       "      <th>row_id</th>\n",
       "      <th></th>\n",
       "      <th></th>\n",
       "      <th></th>\n",
       "      <th></th>\n",
       "      <th></th>\n",
       "      <th></th>\n",
       "      <th></th>\n",
       "      <th></th>\n",
       "      <th></th>\n",
       "      <th></th>\n",
       "      <th></th>\n",
       "      <th></th>\n",
       "      <th></th>\n",
       "      <th></th>\n",
       "      <th></th>\n",
       "      <th></th>\n",
       "      <th></th>\n",
       "      <th></th>\n",
       "      <th></th>\n",
       "      <th></th>\n",
       "      <th></th>\n",
       "    </tr>\n",
       "  </thead>\n",
       "  <tbody>\n",
       "    <tr>\n",
       "      <th>0</th>\n",
       "      <td>0</td>\n",
       "      <td>0</td>\n",
       "      <td>0</td>\n",
       "      <td>0</td>\n",
       "      <td>0</td>\n",
       "      <td>0</td>\n",
       "      <td>0</td>\n",
       "      <td>0</td>\n",
       "      <td>0</td>\n",
       "      <td>0</td>\n",
       "      <td>...</td>\n",
       "      <td>0</td>\n",
       "      <td>0</td>\n",
       "      <td>0</td>\n",
       "      <td>0</td>\n",
       "      <td>0</td>\n",
       "      <td>0</td>\n",
       "      <td>0</td>\n",
       "      <td>0</td>\n",
       "      <td>0</td>\n",
       "      <td>46.9</td>\n",
       "    </tr>\n",
       "    <tr>\n",
       "      <th>1</th>\n",
       "      <td>0</td>\n",
       "      <td>0</td>\n",
       "      <td>0</td>\n",
       "      <td>0</td>\n",
       "      <td>0</td>\n",
       "      <td>0</td>\n",
       "      <td>0</td>\n",
       "      <td>0</td>\n",
       "      <td>0</td>\n",
       "      <td>0</td>\n",
       "      <td>...</td>\n",
       "      <td>0</td>\n",
       "      <td>0</td>\n",
       "      <td>0</td>\n",
       "      <td>0</td>\n",
       "      <td>0</td>\n",
       "      <td>0</td>\n",
       "      <td>1</td>\n",
       "      <td>0</td>\n",
       "      <td>0</td>\n",
       "      <td>26.7</td>\n",
       "    </tr>\n",
       "    <tr>\n",
       "      <th>3</th>\n",
       "      <td>0</td>\n",
       "      <td>0</td>\n",
       "      <td>0</td>\n",
       "      <td>0</td>\n",
       "      <td>0</td>\n",
       "      <td>0</td>\n",
       "      <td>0</td>\n",
       "      <td>0</td>\n",
       "      <td>0</td>\n",
       "      <td>0</td>\n",
       "      <td>...</td>\n",
       "      <td>0</td>\n",
       "      <td>0</td>\n",
       "      <td>0</td>\n",
       "      <td>0</td>\n",
       "      <td>0</td>\n",
       "      <td>0</td>\n",
       "      <td>0</td>\n",
       "      <td>0</td>\n",
       "      <td>0</td>\n",
       "      <td>28.1</td>\n",
       "    </tr>\n",
       "    <tr>\n",
       "      <th>4</th>\n",
       "      <td>0</td>\n",
       "      <td>0</td>\n",
       "      <td>0</td>\n",
       "      <td>0</td>\n",
       "      <td>0</td>\n",
       "      <td>0</td>\n",
       "      <td>0</td>\n",
       "      <td>0</td>\n",
       "      <td>0</td>\n",
       "      <td>0</td>\n",
       "      <td>...</td>\n",
       "      <td>0</td>\n",
       "      <td>0</td>\n",
       "      <td>0</td>\n",
       "      <td>0</td>\n",
       "      <td>0</td>\n",
       "      <td>0</td>\n",
       "      <td>0</td>\n",
       "      <td>0</td>\n",
       "      <td>0</td>\n",
       "      <td>41.6</td>\n",
       "    </tr>\n",
       "    <tr>\n",
       "      <th>5</th>\n",
       "      <td>0</td>\n",
       "      <td>0</td>\n",
       "      <td>0</td>\n",
       "      <td>0</td>\n",
       "      <td>0</td>\n",
       "      <td>0</td>\n",
       "      <td>0</td>\n",
       "      <td>0</td>\n",
       "      <td>0</td>\n",
       "      <td>0</td>\n",
       "      <td>...</td>\n",
       "      <td>0</td>\n",
       "      <td>0</td>\n",
       "      <td>0</td>\n",
       "      <td>0</td>\n",
       "      <td>0</td>\n",
       "      <td>0</td>\n",
       "      <td>0</td>\n",
       "      <td>0</td>\n",
       "      <td>0</td>\n",
       "      <td>34.3</td>\n",
       "    </tr>\n",
       "  </tbody>\n",
       "</table>\n",
       "<p>5 rows × 39 columns</p>\n",
       "</div>"
      ],
      "text/plain": [
       "        academics__program_percentage_agriculture  \\\n",
       "row_id                                              \n",
       "0                                               0   \n",
       "1                                               0   \n",
       "3                                               0   \n",
       "4                                               0   \n",
       "5                                               0   \n",
       "\n",
       "        academics__program_percentage_architecture  \\\n",
       "row_id                                               \n",
       "0                                                0   \n",
       "1                                                0   \n",
       "3                                                0   \n",
       "4                                                0   \n",
       "5                                                0   \n",
       "\n",
       "        academics__program_percentage_biological  \\\n",
       "row_id                                             \n",
       "0                                              0   \n",
       "1                                              0   \n",
       "3                                              0   \n",
       "4                                              0   \n",
       "5                                              0   \n",
       "\n",
       "        academics__program_percentage_business_marketing  \\\n",
       "row_id                                                     \n",
       "0                                                      0   \n",
       "1                                                      0   \n",
       "3                                                      0   \n",
       "4                                                      0   \n",
       "5                                                      0   \n",
       "\n",
       "        academics__program_percentage_communication  \\\n",
       "row_id                                                \n",
       "0                                                 0   \n",
       "1                                                 0   \n",
       "3                                                 0   \n",
       "4                                                 0   \n",
       "5                                                 0   \n",
       "\n",
       "        academics__program_percentage_communications_technology  \\\n",
       "row_id                                                            \n",
       "0                                                       0         \n",
       "1                                                       0         \n",
       "3                                                       0         \n",
       "4                                                       0         \n",
       "5                                                       0         \n",
       "\n",
       "        academics__program_percentage_computer  \\\n",
       "row_id                                           \n",
       "0                                            0   \n",
       "1                                            0   \n",
       "3                                            0   \n",
       "4                                            0   \n",
       "5                                            0   \n",
       "\n",
       "        academics__program_percentage_construction  \\\n",
       "row_id                                               \n",
       "0                                                0   \n",
       "1                                                0   \n",
       "3                                                0   \n",
       "4                                                0   \n",
       "5                                                0   \n",
       "\n",
       "        academics__program_percentage_education  \\\n",
       "row_id                                            \n",
       "0                                             0   \n",
       "1                                             0   \n",
       "3                                             0   \n",
       "4                                             0   \n",
       "5                                             0   \n",
       "\n",
       "        academics__program_percentage_engineering   ...    \\\n",
       "row_id                                              ...     \n",
       "0                                               0   ...     \n",
       "1                                               0   ...     \n",
       "3                                               0   ...     \n",
       "4                                               0   ...     \n",
       "5                                               0   ...     \n",
       "\n",
       "        academics__program_percentage_psychology  \\\n",
       "row_id                                             \n",
       "0                                              0   \n",
       "1                                              0   \n",
       "3                                              0   \n",
       "4                                              0   \n",
       "5                                              0   \n",
       "\n",
       "        academics__program_percentage_public_administration_social_service  \\\n",
       "row_id                                                                       \n",
       "0                                                       0                    \n",
       "1                                                       0                    \n",
       "3                                                       0                    \n",
       "4                                                       0                    \n",
       "5                                                       0                    \n",
       "\n",
       "        academics__program_percentage_resources  \\\n",
       "row_id                                            \n",
       "0                                             0   \n",
       "1                                             0   \n",
       "3                                             0   \n",
       "4                                             0   \n",
       "5                                             0   \n",
       "\n",
       "        academics__program_percentage_science_technology  \\\n",
       "row_id                                                     \n",
       "0                                                      0   \n",
       "1                                                      0   \n",
       "3                                                      0   \n",
       "4                                                      0   \n",
       "5                                                      0   \n",
       "\n",
       "        academics__program_percentage_security_law_enforcement  \\\n",
       "row_id                                                           \n",
       "0                                                       0        \n",
       "1                                                       0        \n",
       "3                                                       0        \n",
       "4                                                       0        \n",
       "5                                                       0        \n",
       "\n",
       "        academics__program_percentage_social_science  \\\n",
       "row_id                                                 \n",
       "0                                                  0   \n",
       "1                                                  0   \n",
       "3                                                  0   \n",
       "4                                                  0   \n",
       "5                                                  0   \n",
       "\n",
       "        academics__program_percentage_theology_religious_vocation  \\\n",
       "row_id                                                              \n",
       "0                                                       0           \n",
       "1                                                       1           \n",
       "3                                                       0           \n",
       "4                                                       0           \n",
       "5                                                       0           \n",
       "\n",
       "        academics__program_percentage_transportation  \\\n",
       "row_id                                                 \n",
       "0                                                  0   \n",
       "1                                                  0   \n",
       "3                                                  0   \n",
       "4                                                  0   \n",
       "5                                                  0   \n",
       "\n",
       "        academics__program_percentage_visual_performing  income  \n",
       "row_id                                                           \n",
       "0                                                     0    46.9  \n",
       "1                                                     0    26.7  \n",
       "3                                                     0    28.1  \n",
       "4                                                     0    41.6  \n",
       "5                                                     0    34.3  \n",
       "\n",
       "[5 rows x 39 columns]"
      ]
     },
     "execution_count": 926,
     "metadata": {},
     "output_type": "execute_result"
    }
   ],
   "source": [
    "def removeAcademics(df):\n",
    "    # remove redundant academics features\n",
    "    filter_col = [col for col in df if col.startswith('academics')]\n",
    "    filter_col = [col for col in filter_col if \"percentage\" not in col]\n",
    "    df = df.drop(filter_col, axis=1)   \n",
    "    df = df.applymap(lambda x: 1 if x >= 0.5 else 0)\n",
    "\n",
    "    return df\n",
    "\n",
    "filter = [col for col in X if col.startswith('academics')]\n",
    "academics = X.loc[:, filter]\n",
    "academics = removeAcademics(academics)\n",
    "academics['income'] = Y['income']\n",
    "\n",
    "fig = plt.figure(figsize=(12,6))\n",
    "ax = fig.add_subplot(111)\n",
    "\n",
    "income_values = []\n",
    "for x in academics.columns[:-1]:\n",
    "    income_values.append(academics[academics[x] > 0.5]['income'])\n",
    "\n",
    "\n",
    "ax.boxplot(income_values)\n",
    "ax.set_xticklabels(academics.columns[:-1])\n",
    "plt.xticks(rotation=90)\n",
    "plt.show()\n",
    "\n",
    "fig = plt.figure(figsize=(12,6))\n",
    "ax = fig.add_subplot(111)\n",
    "ax.scatter(academics['academics__program_percentage_ethnic_cultural_gender'],academics['income'])\n",
    "plt.show()\n",
    "\n",
    "academics.head(5)"
   ]
  }
 ],
 "metadata": {
  "kernelspec": {
   "display_name": "Python 3",
   "language": "python",
   "name": "python3"
  },
  "language_info": {
   "codemirror_mode": {
    "name": "ipython",
    "version": 3
   },
   "file_extension": ".py",
   "mimetype": "text/x-python",
   "name": "python",
   "nbconvert_exporter": "python",
   "pygments_lexer": "ipython3",
   "version": "3.6.2"
  }
 },
 "nbformat": 4,
 "nbformat_minor": 2
}
