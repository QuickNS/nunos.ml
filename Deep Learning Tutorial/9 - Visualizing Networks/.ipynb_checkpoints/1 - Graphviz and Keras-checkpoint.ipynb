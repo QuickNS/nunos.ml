{
 "cells": [
  {
   "cell_type": "code",
   "execution_count": 2,
   "metadata": {},
   "outputs": [],
   "source": [
    "from ndl.nn.conv import LeNet\n",
    "from ndl.nn.conv import ShallowNet\n",
    "from ndl.nn.conv import MiniVGGNet\n",
    "from keras.utils import plot_model\n",
    "\n",
    "# initialize LeNet and then write the network architecture\n",
    "# visualization grpah to disk\n",
    "model = LeNet.build(28, 28, 1, 10)\n",
    "plot_model(model, to_file=\"lenet.png\", show_shapes=True)\n",
    "\n",
    "# initialize LeNet and then write the network architecture\n",
    "# visualization grpah to disk\n",
    "model = ShallowNet.build(32, 32, 3, 10)\n",
    "plot_model(model, to_file=\"shallow.png\", show_shapes=True)\n",
    "\n",
    "# initialize LeNet and then write the network architecture\n",
    "# visualization grpah to disk\n",
    "model = MiniVGGNet.build(32, 32, 3, 10)\n",
    "plot_model(model, to_file=\"MiniVGGNet.png\", show_shapes=True)"
   ]
  },
  {
   "cell_type": "markdown",
   "metadata": {},
   "source": [
    "## LeNet\n",
    "<img src='lenet.png' />"
   ]
  },
  {
   "cell_type": "markdown",
   "metadata": {},
   "source": [
    "## ShallowNet\n",
    "<img src='Shallow.png' />"
   ]
  },
  {
   "cell_type": "markdown",
   "metadata": {},
   "source": [
    "## MiniVGGNet\n",
    "<img src='MiniVGGNet.png' />"
   ]
  },
  {
   "cell_type": "code",
   "execution_count": null,
   "metadata": {},
   "outputs": [],
   "source": []
  }
 ],
 "metadata": {
  "kernelspec": {
   "display_name": "Python 3",
   "language": "python",
   "name": "python3"
  },
  "language_info": {
   "codemirror_mode": {
    "name": "ipython",
    "version": 3
   },
   "file_extension": ".py",
   "mimetype": "text/x-python",
   "name": "python",
   "nbconvert_exporter": "python",
   "pygments_lexer": "ipython3",
   "version": "3.6.4"
  }
 },
 "nbformat": 4,
 "nbformat_minor": 2
}
