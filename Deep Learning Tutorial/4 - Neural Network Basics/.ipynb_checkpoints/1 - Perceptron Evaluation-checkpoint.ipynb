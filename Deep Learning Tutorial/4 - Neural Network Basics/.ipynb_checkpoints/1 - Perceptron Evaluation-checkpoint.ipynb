{
 "cells": [
  {
   "cell_type": "markdown",
   "metadata": {},
   "source": [
    "## Evaluating the Perceptron Bitwise datasets"
   ]
  },
  {
   "cell_type": "code",
   "execution_count": 3,
   "metadata": {},
   "outputs": [],
   "source": [
    "from ndl.nn import Perceptron\n",
    "import numpy as np"
   ]
  },
  {
   "cell_type": "code",
   "execution_count": 6,
   "metadata": {},
   "outputs": [],
   "source": [
    "# construct the OR dataet\n",
    "X = np.array([[0, 0], [0, 1], [1, 0], [1, 1]])\n",
    "y = np.array([[0], [1], [1], [1]])"
   ]
  },
  {
   "cell_type": "code",
   "execution_count": 7,
   "metadata": {},
   "outputs": [],
   "source": [
    "# define our Perceptron and train it\n",
    "# parameters in our implementation is the number of features and the learning rate\n",
    "p = Perceptron(X.shape[1], alpha=0.1)\n",
    "p.fit(X, y, epochs=20)"
   ]
  },
  {
   "cell_type": "code",
   "execution_count": 8,
   "metadata": {},
   "outputs": [
    {
     "name": "stdout",
     "output_type": "stream",
     "text": [
      "data=[0 0], truth=0, pred=0\n",
      "data=[0 1], truth=1, pred=1\n",
      "data=[1 0], truth=1, pred=1\n",
      "data=[1 1], truth=1, pred=1\n"
     ]
    }
   ],
   "source": [
    "# now that our Perceptron is trained, loop over the data points\n",
    "for (x, target) in zip(X, y):\n",
    "    pred = p.predict(x)\n",
    "    print(\"data={}, truth={}, pred={}\".format(x, target[0], pred))"
   ]
  },
  {
   "cell_type": "markdown",
   "metadata": {},
   "source": [
    "So, we see that our Perceptron algorithm is perfectly capable of learning the OR function.  \n",
    "Let's move over to the AND function:"
   ]
  },
  {
   "cell_type": "code",
   "execution_count": 10,
   "metadata": {},
   "outputs": [
    {
     "name": "stdout",
     "output_type": "stream",
     "text": [
      "data=[0 0], truth=0, pred=0\n",
      "data=[0 1], truth=0, pred=0\n",
      "data=[1 0], truth=0, pred=0\n",
      "data=[1 1], truth=1, pred=1\n"
     ]
    }
   ],
   "source": [
    "# construct the AND dataet\n",
    "X = np.array([[0, 0], [0, 1], [1, 0], [1, 1]])\n",
    "y = np.array([[0], [0], [0], [1]])\n",
    "\n",
    "# define our Perceptron and train it\n",
    "# parameters in our implementation is the number of features and the learning rate\n",
    "p = Perceptron(X.shape[1], alpha=0.1)\n",
    "p.fit(X, y, epochs=20)\n",
    "\n",
    "# now that our Perceptron is trained, loop over the data points\n",
    "for (x, target) in zip(X, y):\n",
    "    pred = p.predict(x)\n",
    "    print(\"data={}, truth={}, pred={}\".format(x, target[0], pred))"
   ]
  },
  {
   "cell_type": "markdown",
   "metadata": {},
   "source": [
    "Again, our Perceptron was able to correctly model the AND function.  \n",
    "Finally, let's take a look at the nonlineary separable XOR function:"
   ]
  },
  {
   "cell_type": "code",
   "execution_count": 13,
   "metadata": {},
   "outputs": [
    {
     "name": "stdout",
     "output_type": "stream",
     "text": [
      "data=[0 0], truth=0, pred=1\n",
      "data=[0 1], truth=1, pred=1\n",
      "data=[1 0], truth=1, pred=0\n",
      "data=[1 1], truth=0, pred=0\n"
     ]
    }
   ],
   "source": [
    "# construct the XOR dataet\n",
    "X = np.array([[0, 0], [0, 1], [1, 0], [1, 1]])\n",
    "y = np.array([[0], [1], [1], [0]])\n",
    "\n",
    "# define our Perceptron and train it\n",
    "# parameters in our implementation is the number of features and the learning rate\n",
    "p = Perceptron(X.shape[1], alpha=0.1)\n",
    "p.fit(X, y, epochs=20)\n",
    "\n",
    "# now that our Perceptron is trained, loop over the data points\n",
    "for (x, target) in zip(X, y):\n",
    "    pred = p.predict(x)\n",
    "    print(\"data={}, truth={}, pred={}\".format(x, target[0], pred))"
   ]
  },
  {
   "cell_type": "markdown",
   "metadata": {},
   "source": [
    "No matter how many times we run this (results vary due to random initialization of weights), the algorithm weill **never** be able to correctly model the XOR function.\n",
    "\n",
    "**This is a limitation of the single layer Perceptron, and can be overcome by adding more layers**"
   ]
  },
  {
   "cell_type": "code",
   "execution_count": null,
   "metadata": {},
   "outputs": [],
   "source": []
  }
 ],
 "metadata": {
  "kernelspec": {
   "display_name": "Python 3",
   "language": "python",
   "name": "python3"
  },
  "language_info": {
   "codemirror_mode": {
    "name": "ipython",
    "version": 3
   },
   "file_extension": ".py",
   "mimetype": "text/x-python",
   "name": "python",
   "nbconvert_exporter": "python",
   "pygments_lexer": "ipython3",
   "version": "3.6.4"
  }
 },
 "nbformat": 4,
 "nbformat_minor": 2
}
