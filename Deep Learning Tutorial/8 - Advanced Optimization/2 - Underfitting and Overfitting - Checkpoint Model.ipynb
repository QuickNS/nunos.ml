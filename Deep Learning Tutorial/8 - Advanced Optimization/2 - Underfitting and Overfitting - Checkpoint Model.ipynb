{
 "cells": [
  {
   "cell_type": "markdown",
   "metadata": {},
   "source": [
    "**Underfitting** occurs when your model cannot obtain sufficiently low loss on the training set. In this case, your model fails to learn the underlying patterns in your training data. On the other end of the spectrum, we have **overfitting** where your network models the training data too well and fails to generalize to your validation data.\n",
    "\n",
    "Therefore, our goal when training a machine learning model is to:\n",
    "1.  Reduce the training loss as much as possible.\n",
    "2.  While ensuring the gap between the training and testing loss is reasonably small.\n",
    "\n",
    "To combat overfitting, in general there are two techniques:\n",
    "1. Reduce the complexity of the model\n",
    "2. Apply regularization - highly prefered solution\n",
    "\n",
    "**Sometimes, overfitting is an invitability. What we need is to control the 'generalization gap'**. At some point learning and validation loss will start diverging and we need to try and keep the gap under control. If we start seeing a rise in validation loss, we are stronly overfitting."
   ]
  },
  {
   "cell_type": "code",
   "execution_count": 16,
   "metadata": {},
   "outputs": [],
   "source": [
    "# import the necessary packages\n",
    "from ndl.callbacks import TrainingMonitor\n",
    "from sklearn.preprocessing import LabelBinarizer\n",
    "from ndl.nn.conv import MiniVGGNet\n",
    "from keras.optimizers import SGD\n",
    "from keras.datasets import cifar10\n",
    "import os"
   ]
  },
  {
   "cell_type": "code",
   "execution_count": 17,
   "metadata": {},
   "outputs": [
    {
     "name": "stdout",
     "output_type": "stream",
     "text": [
      "[INFO process ID: 8712\n"
     ]
    }
   ],
   "source": [
    "# show information on the process ID\n",
    "print(\"[INFO process ID: {}\".format(os.getpid()))\n",
    "output = 'output'"
   ]
  },
  {
   "cell_type": "code",
   "execution_count": 18,
   "metadata": {},
   "outputs": [
    {
     "name": "stdout",
     "output_type": "stream",
     "text": [
      "[INFO] loading CIFAR-10 data...\n"
     ]
    }
   ],
   "source": [
    "# load the training and testing data, then scale it into the\n",
    "# range [0, 1]\n",
    "print(\"[INFO] loading CIFAR-10 data...\")\n",
    "((trainX, trainY), (testX, testY)) = cifar10.load_data()\n",
    "trainX = trainX.astype(\"float\") / 255.0\n",
    "testX = testX.astype(\"float\") / 255.0"
   ]
  },
  {
   "cell_type": "code",
   "execution_count": 19,
   "metadata": {},
   "outputs": [],
   "source": [
    "# convert the labels from integers to vectors\n",
    "lb = LabelBinarizer()\n",
    "trainY = lb.fit_transform(trainY)\n",
    "testY = lb.transform(testY)"
   ]
  },
  {
   "cell_type": "code",
   "execution_count": 20,
   "metadata": {},
   "outputs": [],
   "source": [
    "labelNames = [\"airplane\", \"automobile\", \"bird\", \"cat\", \"deer\", \"dog\", \"frog\", \"horse\", \"ship\", \"truck\"]"
   ]
  },
  {
   "cell_type": "code",
   "execution_count": 21,
   "metadata": {},
   "outputs": [
    {
     "name": "stdout",
     "output_type": "stream",
     "text": [
      "[INFO] compiling model...\n"
     ]
    }
   ],
   "source": [
    "# initialize the SGD optimizer, but without any learning rate decay\n",
    "print(\"[INFO] compiling model...\")\n",
    "opt = SGD(lr=0.01, momentum=0.9, nesterov=True)\n",
    "model = MiniVGGNet.build(width=32, height=32, depth=3, classes=10)\n",
    "model.compile(loss=\"categorical_crossentropy\", optimizer=opt, metrics=[\"accuracy\"])"
   ]
  },
  {
   "cell_type": "markdown",
   "metadata": {},
   "source": [
    "We're not including any decay on purpose to demonstrate monitoring and spot overfitting as it's happening."
   ]
  },
  {
   "cell_type": "code",
   "execution_count": 22,
   "metadata": {},
   "outputs": [],
   "source": [
    "# construct the set of callbacks\n",
    "figPath = os.path.sep.join([output, \"{}.png\".format(os.getpid())])\n",
    "jsonPath = os.path.sep.join([output, \"{}.json\".format(os.getpid())])\n",
    "callbacks = [TrainingMonitor(figPath, jsonPath=jsonPath)]"
   ]
  },
  {
   "cell_type": "markdown",
   "metadata": {},
   "source": [
    "## Once you start training, take a look at your output directory and you should see the training history and loss plots being stored.\n",
    "\n",
    "- At epoch 5 we should still be underfitting\n",
    "- At epoch 10 we see the first signs of overfitting, but perfectly normal\n",
    "- At epoch 25 we see validation loss stagnating while training loss continues to go down. This is the start of overfitting.\n",
    "- At epoch 50 we are clearly in trouble with validation loss going up. We should have stopped the experiment here and not waste more time. Re-assess parameters, try again...\n",
    "\n",
    "If we let this go all over to epoch 100 we see our validation loss continuing to rise.\n",
    "\n",
    "**Create the output directory before continuing**\n",
    "\n",
    "As the training progress check out the plots to see these effects happening"
   ]
  },
  {
   "cell_type": "code",
   "execution_count": 23,
   "metadata": {},
   "outputs": [
    {
     "name": "stdout",
     "output_type": "stream",
     "text": [
      "[INFO] training network...\n",
      "Train on 50000 samples, validate on 10000 samples\n",
      "Epoch 1/50\n",
      "50000/50000 [==============================] - 12s 245us/step - loss: 1.6446 - acc: 0.4542 - val_loss: 1.6057 - val_acc: 0.4619\n",
      "Epoch 2/50\n",
      "50000/50000 [==============================] - 12s 232us/step - loss: 1.1433 - acc: 0.6100 - val_loss: 0.9157 - val_acc: 0.6742\n",
      "Epoch 3/50\n",
      "50000/50000 [==============================] - 12s 235us/step - loss: 0.9637 - acc: 0.6666 - val_loss: 0.8169 - val_acc: 0.7205\n",
      "Epoch 4/50\n",
      "50000/50000 [==============================] - 12s 235us/step - loss: 0.8629 - acc: 0.7015 - val_loss: 0.8920 - val_acc: 0.6904\n",
      "Epoch 5/50\n",
      "50000/50000 [==============================] - 12s 234us/step - loss: 0.7826 - acc: 0.7257 - val_loss: 0.7315 - val_acc: 0.7482\n",
      "Epoch 6/50\n",
      "50000/50000 [==============================] - 12s 232us/step - loss: 0.7256 - acc: 0.7463 - val_loss: 0.7095 - val_acc: 0.7539\n",
      "Epoch 7/50\n",
      "50000/50000 [==============================] - 12s 234us/step - loss: 0.6713 - acc: 0.7632 - val_loss: 0.6695 - val_acc: 0.7737\n",
      "Epoch 8/50\n",
      "50000/50000 [==============================] - 12s 234us/step - loss: 0.6213 - acc: 0.7829 - val_loss: 0.6413 - val_acc: 0.7839\n",
      "Epoch 9/50\n",
      "50000/50000 [==============================] - 12s 234us/step - loss: 0.5843 - acc: 0.7948 - val_loss: 0.6818 - val_acc: 0.7685\n",
      "Epoch 10/50\n",
      "50000/50000 [==============================] - 12s 234us/step - loss: 0.5412 - acc: 0.8082 - val_loss: 0.6509 - val_acc: 0.7825\n",
      "Epoch 11/50\n",
      "50000/50000 [==============================] - 12s 235us/step - loss: 0.5160 - acc: 0.8168 - val_loss: 0.6563 - val_acc: 0.7871\n",
      "Epoch 12/50\n",
      "50000/50000 [==============================] - 12s 233us/step - loss: 0.4824 - acc: 0.8297 - val_loss: 0.6294 - val_acc: 0.7893\n",
      "Epoch 13/50\n",
      "50000/50000 [==============================] - 12s 234us/step - loss: 0.4571 - acc: 0.8390 - val_loss: 0.5738 - val_acc: 0.8098\n",
      "Epoch 14/50\n",
      "50000/50000 [==============================] - 12s 234us/step - loss: 0.4314 - acc: 0.8459 - val_loss: 0.5939 - val_acc: 0.8037\n",
      "Epoch 15/50\n",
      "50000/50000 [==============================] - 12s 236us/step - loss: 0.4108 - acc: 0.8545 - val_loss: 0.5743 - val_acc: 0.8102\n",
      "Epoch 16/50\n",
      "50000/50000 [==============================] - 12s 232us/step - loss: 0.3852 - acc: 0.8625 - val_loss: 0.5652 - val_acc: 0.8159\n",
      "Epoch 17/50\n",
      "50000/50000 [==============================] - 12s 234us/step - loss: 0.3751 - acc: 0.8669 - val_loss: 0.6673 - val_acc: 0.7879\n",
      "Epoch 18/50\n",
      "50000/50000 [==============================] - 11s 229us/step - loss: 0.3516 - acc: 0.8745 - val_loss: 0.5812 - val_acc: 0.8175\n",
      "Epoch 19/50\n",
      "50000/50000 [==============================] - 12s 233us/step - loss: 0.3337 - acc: 0.8803 - val_loss: 0.6216 - val_acc: 0.8027\n",
      "Epoch 20/50\n",
      "50000/50000 [==============================] - 12s 236us/step - loss: 0.3193 - acc: 0.8861 - val_loss: 0.6154 - val_acc: 0.8036\n",
      "Epoch 21/50\n",
      "50000/50000 [==============================] - 12s 234us/step - loss: 0.3123 - acc: 0.8882 - val_loss: 0.5773 - val_acc: 0.8180\n",
      "Epoch 22/50\n",
      "50000/50000 [==============================] - 12s 231us/step - loss: 0.3031 - acc: 0.8913 - val_loss: 0.6018 - val_acc: 0.8151\n",
      "Epoch 23/50\n",
      "50000/50000 [==============================] - 12s 235us/step - loss: 0.2859 - acc: 0.8966 - val_loss: 0.5763 - val_acc: 0.8205\n",
      "Epoch 24/50\n",
      "50000/50000 [==============================] - 12s 231us/step - loss: 0.2698 - acc: 0.9049 - val_loss: 0.5944 - val_acc: 0.8183\n",
      "Epoch 25/50\n",
      "50000/50000 [==============================] - 12s 230us/step - loss: 0.2587 - acc: 0.9082 - val_loss: 0.5777 - val_acc: 0.8276\n",
      "Epoch 26/50\n",
      "50000/50000 [==============================] - 12s 234us/step - loss: 0.2512 - acc: 0.9116 - val_loss: 0.5778 - val_acc: 0.8261\n",
      "Epoch 27/50\n",
      "50000/50000 [==============================] - 12s 232us/step - loss: 0.2416 - acc: 0.9135 - val_loss: 0.5886 - val_acc: 0.8241\n",
      "Epoch 28/50\n",
      "50000/50000 [==============================] - 12s 231us/step - loss: 0.2335 - acc: 0.9169 - val_loss: 0.5727 - val_acc: 0.8272\n",
      "Epoch 29/50\n",
      "50000/50000 [==============================] - 12s 230us/step - loss: 0.2210 - acc: 0.9210 - val_loss: 0.5837 - val_acc: 0.8302\n",
      "Epoch 30/50\n",
      "50000/50000 [==============================] - 12s 231us/step - loss: 0.2176 - acc: 0.9231 - val_loss: 0.5970 - val_acc: 0.8240\n",
      "Epoch 31/50\n",
      "50000/50000 [==============================] - 12s 233us/step - loss: 0.2109 - acc: 0.9244 - val_loss: 0.6258 - val_acc: 0.8197\n",
      "Epoch 32/50\n",
      "50000/50000 [==============================] - 12s 233us/step - loss: 0.2090 - acc: 0.9259 - val_loss: 0.6600 - val_acc: 0.8223\n",
      "Epoch 33/50\n",
      "50000/50000 [==============================] - 12s 233us/step - loss: 0.1956 - acc: 0.9297 - val_loss: 0.5823 - val_acc: 0.8324\n",
      "Epoch 34/50\n",
      "50000/50000 [==============================] - 12s 232us/step - loss: 0.1904 - acc: 0.9316 - val_loss: 0.6277 - val_acc: 0.8252\n",
      "Epoch 35/50\n",
      "50000/50000 [==============================] - 12s 232us/step - loss: 0.1929 - acc: 0.9333 - val_loss: 0.6148 - val_acc: 0.8224\n",
      "Epoch 36/50\n",
      "50000/50000 [==============================] - 12s 231us/step - loss: 0.1831 - acc: 0.9343 - val_loss: 0.5948 - val_acc: 0.8268\n",
      "Epoch 37/50\n",
      "50000/50000 [==============================] - 12s 231us/step - loss: 0.1806 - acc: 0.9365 - val_loss: 0.6004 - val_acc: 0.8312\n",
      "Epoch 38/50\n",
      "50000/50000 [==============================] - 11s 229us/step - loss: 0.1752 - acc: 0.9383 - val_loss: 0.6490 - val_acc: 0.8221\n",
      "Epoch 39/50\n",
      "50000/50000 [==============================] - 12s 231us/step - loss: 0.1639 - acc: 0.9417 - val_loss: 0.6200 - val_acc: 0.8292\n",
      "Epoch 40/50\n",
      "50000/50000 [==============================] - 12s 231us/step - loss: 0.1698 - acc: 0.9395 - val_loss: 0.6398 - val_acc: 0.8301\n",
      "Epoch 41/50\n",
      "50000/50000 [==============================] - 12s 231us/step - loss: 0.1660 - acc: 0.9417 - val_loss: 0.5952 - val_acc: 0.8304\n",
      "Epoch 42/50\n",
      "50000/50000 [==============================] - 11s 230us/step - loss: 0.1564 - acc: 0.9440 - val_loss: 0.6200 - val_acc: 0.8299\n",
      "Epoch 43/50\n",
      "50000/50000 [==============================] - 12s 232us/step - loss: 0.1509 - acc: 0.9466 - val_loss: 0.6648 - val_acc: 0.8238\n",
      "Epoch 44/50\n",
      "50000/50000 [==============================] - 12s 230us/step - loss: 0.1561 - acc: 0.9444 - val_loss: 0.6335 - val_acc: 0.8291\n",
      "Epoch 45/50\n",
      "50000/50000 [==============================] - 12s 235us/step - loss: 0.1474 - acc: 0.9468 - val_loss: 0.6243 - val_acc: 0.8296\n",
      "Epoch 46/50\n",
      "50000/50000 [==============================] - 12s 232us/step - loss: 0.1429 - acc: 0.9495 - val_loss: 0.6143 - val_acc: 0.8289\n",
      "Epoch 47/50\n",
      "50000/50000 [==============================] - 12s 233us/step - loss: 0.1376 - acc: 0.9515 - val_loss: 0.6299 - val_acc: 0.8330\n",
      "Epoch 48/50\n",
      "50000/50000 [==============================] - 12s 234us/step - loss: 0.1397 - acc: 0.9505 - val_loss: 0.6235 - val_acc: 0.8345\n",
      "Epoch 49/50\n",
      "50000/50000 [==============================] - 12s 233us/step - loss: 0.1404 - acc: 0.9492 - val_loss: 0.6570 - val_acc: 0.8291\n",
      "Epoch 50/50\n",
      "50000/50000 [==============================] - 12s 232us/step - loss: 0.1439 - acc: 0.9486 - val_loss: 0.6549 - val_acc: 0.8322\n"
     ]
    },
    {
     "data": {
      "text/plain": [
       "<keras.callbacks.History at 0x1e75b9876a0>"
      ]
     },
     "execution_count": 23,
     "metadata": {},
     "output_type": "execute_result"
    }
   ],
   "source": [
    "# train the network\n",
    "print(\"[INFO] training network...\")\n",
    "model.fit(trainX, trainY, validation_data=(testX, testY), batch_size=64, epochs=50, callbacks=callbacks, verbose=1)"
   ]
  },
  {
   "cell_type": "markdown",
   "metadata": {},
   "source": [
    "<img src='27.png'/><img src='50.png' /><img src='100.png' />\n",
    "\n",
    "This way we can monitor the training and not wait for the end to realize we are overfitting madly. We should have probably stopped this around the early 20s."
   ]
  },
  {
   "cell_type": "markdown",
   "metadata": {},
   "source": [
    "### Can we store intermediate values (checkpoint)?\n",
    "Ofc we can! Keras provides the ModelCheckpoint callback exactly for this purpose"
   ]
  },
  {
   "cell_type": "code",
   "execution_count": 24,
   "metadata": {},
   "outputs": [
    {
     "name": "stdout",
     "output_type": "stream",
     "text": [
      "[INFO] compiling model...\n"
     ]
    }
   ],
   "source": [
    "# initialize the SGD optimizer and model\n",
    "print(\"[INFO] compiling model...\")\n",
    "opt = SGD(lr=0.01, decay = 0.01 / 40, momentum=0.9, nesterov=True)\n",
    "model = MiniVGGNet.build(width=32, height=32, depth=3, classes=10)\n",
    "model.compile(loss=\"categorical_crossentropy\", optimizer=opt, metrics=[\"accuracy\"])"
   ]
  },
  {
   "cell_type": "code",
   "execution_count": 28,
   "metadata": {},
   "outputs": [],
   "source": [
    "from keras.callbacks import ModelCheckpoint\n",
    "\n",
    "# construct the callback to save only the *best* model to disk\n",
    "# based on the validation loss\n",
    "weights_dir = 'test_best'\n",
    "\n",
    "# if we want to save every time there is an improvement - creates multiple files\n",
    "fname = os.path.sep.join([weights_dir, \"weights-{epoch:03d}-{val_loss:.4f}.hdf5\"])\n",
    "\n",
    "# if we want to save the best model and overwrite once there is an improvement\n",
    "#fname = weights_dir + '/cifar10_best_weights.hdf5'\n",
    "\n",
    "checkpoint = ModelCheckpoint(fname, monitor=\"val_loss\", mode=\"min\", save_best_only=True, verbose=1)\n",
    "callbacks = [checkpoint]"
   ]
  },
  {
   "cell_type": "markdown",
   "metadata": {},
   "source": [
    "Once we start training we should check our weights_dir where files should be appearing (multiple or one depending on the chosen method). We can also choose to monitor val_acc with mode=\"max\" or even monitor train loss or train acc."
   ]
  },
  {
   "cell_type": "code",
   "execution_count": 29,
   "metadata": {},
   "outputs": [
    {
     "name": "stdout",
     "output_type": "stream",
     "text": [
      "[INFO] training network...\n",
      "Train on 50000 samples, validate on 10000 samples\n",
      "Epoch 1/40\n",
      " - 11s - loss: 1.1581 - acc: 0.5933 - val_loss: 0.9758 - val_acc: 0.6503\n",
      "\n",
      "Epoch 00001: val_loss improved from inf to 0.97583, saving model to test_best\\weights-001-0.9758.hdf5\n",
      "Epoch 2/40\n",
      " - 11s - loss: 0.9681 - acc: 0.6597 - val_loss: 0.8115 - val_acc: 0.7174\n",
      "\n",
      "Epoch 00002: val_loss improved from 0.97583 to 0.81149, saving model to test_best\\weights-002-0.8115.hdf5\n",
      "Epoch 3/40\n",
      " - 11s - loss: 0.8638 - acc: 0.6977 - val_loss: 0.7624 - val_acc: 0.7380\n",
      "\n",
      "Epoch 00003: val_loss improved from 0.81149 to 0.76245, saving model to test_best\\weights-003-0.7624.hdf5\n",
      "Epoch 4/40\n",
      " - 11s - loss: 0.7838 - acc: 0.7242 - val_loss: 0.7322 - val_acc: 0.7483\n",
      "\n",
      "Epoch 00004: val_loss improved from 0.76245 to 0.73219, saving model to test_best\\weights-004-0.7322.hdf5\n",
      "Epoch 5/40\n",
      " - 11s - loss: 0.7355 - acc: 0.7412 - val_loss: 0.6767 - val_acc: 0.7617\n",
      "\n",
      "Epoch 00005: val_loss improved from 0.73219 to 0.67672, saving model to test_best\\weights-005-0.6767.hdf5\n",
      "Epoch 6/40\n",
      " - 11s - loss: 0.6862 - acc: 0.7567 - val_loss: 0.6766 - val_acc: 0.7663\n",
      "\n",
      "Epoch 00006: val_loss improved from 0.67672 to 0.67662, saving model to test_best\\weights-006-0.6766.hdf5\n",
      "Epoch 7/40\n",
      " - 11s - loss: 0.6503 - acc: 0.7699 - val_loss: 0.6353 - val_acc: 0.7785\n",
      "\n",
      "Epoch 00007: val_loss improved from 0.67662 to 0.63528, saving model to test_best\\weights-007-0.6353.hdf5\n",
      "Epoch 8/40\n",
      " - 11s - loss: 0.6169 - acc: 0.7826 - val_loss: 0.6202 - val_acc: 0.7857\n",
      "\n",
      "Epoch 00008: val_loss improved from 0.63528 to 0.62020, saving model to test_best\\weights-008-0.6202.hdf5\n",
      "Epoch 9/40\n",
      " - 11s - loss: 0.5883 - acc: 0.7922 - val_loss: 0.6110 - val_acc: 0.7861\n",
      "\n",
      "Epoch 00009: val_loss improved from 0.62020 to 0.61097, saving model to test_best\\weights-009-0.6110.hdf5\n",
      "Epoch 10/40\n",
      " - 11s - loss: 0.5622 - acc: 0.8032 - val_loss: 0.5997 - val_acc: 0.7931\n",
      "\n",
      "Epoch 00010: val_loss improved from 0.61097 to 0.59966, saving model to test_best\\weights-010-0.5997.hdf5\n",
      "Epoch 11/40\n",
      " - 11s - loss: 0.5338 - acc: 0.8120 - val_loss: 0.5885 - val_acc: 0.7969\n",
      "\n",
      "Epoch 00011: val_loss improved from 0.59966 to 0.58855, saving model to test_best\\weights-011-0.5885.hdf5\n",
      "Epoch 12/40\n",
      " - 11s - loss: 0.5154 - acc: 0.8182 - val_loss: 0.5764 - val_acc: 0.8033\n",
      "\n",
      "Epoch 00012: val_loss improved from 0.58855 to 0.57643, saving model to test_best\\weights-012-0.5764.hdf5\n",
      "Epoch 13/40\n",
      " - 11s - loss: 0.4968 - acc: 0.8232 - val_loss: 0.5915 - val_acc: 0.7970\n",
      "\n",
      "Epoch 00013: val_loss did not improve\n",
      "Epoch 14/40\n",
      " - 11s - loss: 0.4740 - acc: 0.8324 - val_loss: 0.5924 - val_acc: 0.7993\n",
      "\n",
      "Epoch 00014: val_loss did not improve\n",
      "Epoch 15/40\n",
      " - 11s - loss: 0.4606 - acc: 0.8359 - val_loss: 0.5628 - val_acc: 0.8042\n",
      "\n",
      "Epoch 00015: val_loss improved from 0.57643 to 0.56284, saving model to test_best\\weights-015-0.5628.hdf5\n",
      "Epoch 16/40\n",
      " - 11s - loss: 0.4426 - acc: 0.8426 - val_loss: 0.5666 - val_acc: 0.8080\n",
      "\n",
      "Epoch 00016: val_loss did not improve\n",
      "Epoch 17/40\n",
      " - 11s - loss: 0.4304 - acc: 0.8480 - val_loss: 0.5732 - val_acc: 0.8074\n",
      "\n",
      "Epoch 00017: val_loss did not improve\n",
      "Epoch 18/40\n",
      " - 11s - loss: 0.4127 - acc: 0.8553 - val_loss: 0.5690 - val_acc: 0.8118\n",
      "\n",
      "Epoch 00018: val_loss did not improve\n",
      "Epoch 19/40\n",
      " - 11s - loss: 0.4050 - acc: 0.8551 - val_loss: 0.5460 - val_acc: 0.8179\n",
      "\n",
      "Epoch 00019: val_loss improved from 0.56284 to 0.54604, saving model to test_best\\weights-019-0.5460.hdf5\n",
      "Epoch 20/40\n",
      " - 11s - loss: 0.3909 - acc: 0.8593 - val_loss: 0.5516 - val_acc: 0.8159\n",
      "\n",
      "Epoch 00020: val_loss did not improve\n",
      "Epoch 21/40\n",
      " - 11s - loss: 0.3811 - acc: 0.8646 - val_loss: 0.5571 - val_acc: 0.8147\n",
      "\n",
      "Epoch 00021: val_loss did not improve\n",
      "Epoch 22/40\n",
      " - 11s - loss: 0.3635 - acc: 0.8698 - val_loss: 0.6176 - val_acc: 0.8029\n",
      "\n",
      "Epoch 00022: val_loss did not improve\n",
      "Epoch 23/40\n",
      " - 11s - loss: 0.3663 - acc: 0.8677 - val_loss: 0.5644 - val_acc: 0.8112\n",
      "\n",
      "Epoch 00023: val_loss did not improve\n",
      "Epoch 24/40\n",
      " - 11s - loss: 0.3546 - acc: 0.8723 - val_loss: 0.5512 - val_acc: 0.8205\n",
      "\n",
      "Epoch 00024: val_loss did not improve\n",
      "Epoch 25/40\n",
      " - 11s - loss: 0.3400 - acc: 0.8791 - val_loss: 0.5389 - val_acc: 0.8191\n",
      "\n",
      "Epoch 00025: val_loss improved from 0.54604 to 0.53891, saving model to test_best\\weights-025-0.5389.hdf5\n",
      "Epoch 26/40\n",
      " - 11s - loss: 0.3329 - acc: 0.8803 - val_loss: 0.5569 - val_acc: 0.8195\n",
      "\n",
      "Epoch 00026: val_loss did not improve\n",
      "Epoch 27/40\n",
      " - 11s - loss: 0.3315 - acc: 0.8798 - val_loss: 0.5485 - val_acc: 0.8209\n",
      "\n",
      "Epoch 00027: val_loss did not improve\n",
      "Epoch 28/40\n",
      " - 11s - loss: 0.3127 - acc: 0.8898 - val_loss: 0.5506 - val_acc: 0.8225\n",
      "\n",
      "Epoch 00028: val_loss did not improve\n",
      "Epoch 29/40\n",
      " - 11s - loss: 0.3090 - acc: 0.8893 - val_loss: 0.5616 - val_acc: 0.8203\n",
      "\n",
      "Epoch 00029: val_loss did not improve\n",
      "Epoch 30/40\n",
      " - 11s - loss: 0.2998 - acc: 0.8917 - val_loss: 0.5540 - val_acc: 0.8201\n",
      "\n",
      "Epoch 00030: val_loss did not improve\n",
      "Epoch 31/40\n",
      " - 11s - loss: 0.3016 - acc: 0.8918 - val_loss: 0.5675 - val_acc: 0.8186\n",
      "\n",
      "Epoch 00031: val_loss did not improve\n",
      "Epoch 32/40\n",
      " - 11s - loss: 0.2971 - acc: 0.8936 - val_loss: 0.5448 - val_acc: 0.8237\n",
      "\n",
      "Epoch 00032: val_loss did not improve\n",
      "Epoch 33/40\n",
      " - 11s - loss: 0.2839 - acc: 0.8978 - val_loss: 0.5520 - val_acc: 0.8244\n",
      "\n",
      "Epoch 00033: val_loss did not improve\n",
      "Epoch 34/40\n",
      " - 11s - loss: 0.2779 - acc: 0.9003 - val_loss: 0.5476 - val_acc: 0.8274\n",
      "\n",
      "Epoch 00034: val_loss did not improve\n",
      "Epoch 35/40\n",
      " - 11s - loss: 0.2738 - acc: 0.9006 - val_loss: 0.5511 - val_acc: 0.8231\n",
      "\n",
      "Epoch 00035: val_loss did not improve\n",
      "Epoch 36/40\n",
      " - 11s - loss: 0.2702 - acc: 0.9029 - val_loss: 0.5456 - val_acc: 0.8252\n",
      "\n",
      "Epoch 00036: val_loss did not improve\n",
      "Epoch 37/40\n",
      " - 11s - loss: 0.2623 - acc: 0.9061 - val_loss: 0.5560 - val_acc: 0.8264\n",
      "\n",
      "Epoch 00037: val_loss did not improve\n",
      "Epoch 38/40\n",
      " - 11s - loss: 0.2604 - acc: 0.9057 - val_loss: 0.5632 - val_acc: 0.8232\n",
      "\n",
      "Epoch 00038: val_loss did not improve\n",
      "Epoch 39/40\n",
      " - 11s - loss: 0.2554 - acc: 0.9089 - val_loss: 0.5715 - val_acc: 0.8235\n",
      "\n",
      "Epoch 00039: val_loss did not improve\n",
      "Epoch 40/40\n",
      " - 11s - loss: 0.2547 - acc: 0.9094 - val_loss: 0.5780 - val_acc: 0.8212\n",
      "\n",
      "Epoch 00040: val_loss did not improve\n"
     ]
    }
   ],
   "source": [
    "# train the network\n",
    "print(\"[INFO] training network...\")\n",
    "H = model.fit(trainX, trainY, validation_data=(testX, testY), batch_size=64, epochs=40, callbacks=callbacks, verbose=2)"
   ]
  },
  {
   "cell_type": "markdown",
   "metadata": {},
   "source": [
    "**As expected, the last saved model occurred shorty after epoch 20 (25 in this specific case)**\n",
    "Results will vary due to different initialization values. They will also differ from the previous run because we are applying learning rate decay on this model."
   ]
  },
  {
   "cell_type": "code",
   "execution_count": 31,
   "metadata": {},
   "outputs": [
    {
     "data": {
      "image/png": "[encoded data removed]",
      "text/plain": [
       "<matplotlib.figure.Figure at 0x1e7d3f015c0>"
      ]
     },
     "metadata": {},
     "output_type": "display_data"
    }
   ],
   "source": [
    "from ndl.utils.plot import plotKerasReport\n",
    "plotKerasReport(H, 40)"
   ]
  },
  {
   "cell_type": "code",
   "execution_count": null,
   "metadata": {},
   "outputs": [],
   "source": []
  }
 ],
 "metadata": {
  "kernelspec": {
   "display_name": "Python 3",
   "language": "python",
   "name": "python3"
  },
  "language_info": {
   "codemirror_mode": {
    "name": "ipython",
    "version": 3
   },
   "file_extension": ".py",
   "mimetype": "text/x-python",
   "name": "python",
   "nbconvert_exporter": "python",
   "pygments_lexer": "ipython3",
   "version": "3.6.4"
  }
 },
 "nbformat": 4,
 "nbformat_minor": 2
}
