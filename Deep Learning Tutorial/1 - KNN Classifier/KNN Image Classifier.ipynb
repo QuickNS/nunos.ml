{
 "cells": [
  {
   "cell_type": "code",
   "execution_count": 5,
   "metadata": {},
   "outputs": [],
   "source": [
    "# import the necessary packages\n",
    "from sklearn.neighbors import KNeighborsClassifier\n",
    "from sklearn.preprocessing import LabelEncoder\n",
    "from sklearn.model_selection import train_test_split\n",
    "from sklearn.metrics import classification_report\n",
    "from sklearn.metrics import confusion_matrix\n",
    "from sklearn.metrics import accuracy_score, f1_score, recall_score, precision_score\n",
    "\n",
    "from ndl.preprocessing import SimplePreprocessor\n",
    "from ndl.datasets import SimpleDatasetLoader\n",
    "from utils.plot_utils import plotClassificationReport\n",
    "from utils.plot_utils import plotConfusionMatrix\n",
    "import matplotlib.pyplot as plt\n",
    "from imutils import paths\n",
    "\n",
    "%matplotlib inline"
   ]
  },
  {
   "cell_type": "code",
   "execution_count": 6,
   "metadata": {},
   "outputs": [],
   "source": [
    "# setup parameters\n",
    "k = 3\n",
    "dataset = '../datasets/animals'"
   ]
  },
  {
   "cell_type": "code",
   "execution_count": 7,
   "metadata": {},
   "outputs": [
    {
     "name": "stdout",
     "output_type": "stream",
     "text": [
      "Dataset includes 3000 images\n"
     ]
    }
   ],
   "source": [
    "# grab the list of images that we'll be describing\n",
    "imagePaths = list(paths.list_images(dataset))\n",
    "print(\"Dataset includes %d images\" % len(imagePaths))"
   ]
  },
  {
   "cell_type": "code",
   "execution_count": 8,
   "metadata": {},
   "outputs": [
    {
     "name": "stdout",
     "output_type": "stream",
     "text": [
      "[INFO] processed 500/3000\n",
      "[INFO] processed 1000/3000\n",
      "[INFO] processed 1500/3000\n",
      "[INFO] processed 2000/3000\n",
      "[INFO] processed 2500/3000\n",
      "[INFO] processed 3000/3000\n"
     ]
    }
   ],
   "source": [
    "# this resizes all images to 32x32 pixels\n",
    "sp = SimplePreprocessor(32, 32)\n",
    "# loads the images and resizes them\n",
    "sdl = SimpleDatasetLoader(preprocessors=[sp])\n",
    "(data, labels) = sdl.load(imagePaths, verbose=500)\n",
    "#reshape data set so it's [number_of_images, 32*32*3] (32 by 32 with 3 points for RGB)\n",
    "data = data.reshape((data.shape[0], 3072))"
   ]
  },
  {
   "cell_type": "code",
   "execution_count": 9,
   "metadata": {},
   "outputs": [
    {
     "name": "stdout",
     "output_type": "stream",
     "text": [
      "Dataset shape:  (3000, 3072)\n",
      "[INFO] features matrix: 9.0MB\n"
     ]
    }
   ],
   "source": [
    "# look at data\n",
    "print(\"Dataset shape: \", data.shape)\n",
    "data[:2]\n",
    "\n",
    "# show some information on memory consumption of the images\n",
    "print(\"[INFO] features matrix: {:.1f}MB\".format(\n",
    "    data.nbytes / (1024 * 1000.0)))"
   ]
  },
  {
   "cell_type": "code",
   "execution_count": 10,
   "metadata": {},
   "outputs": [
    {
     "name": "stdout",
     "output_type": "stream",
     "text": [
      "0  -  cats\n",
      "1  -  dogs\n",
      "2  -  panda\n"
     ]
    }
   ],
   "source": [
    "# encode the labels as integers\n",
    "le = LabelEncoder()\n",
    "labels = le.fit_transform(labels)\n",
    "\n",
    "# display label encoding\n",
    "for (i, label) in enumerate(le.classes_):\n",
    "    print(i, ' - ', label)"
   ]
  },
  {
   "cell_type": "code",
   "execution_count": 11,
   "metadata": {},
   "outputs": [],
   "source": [
    "# partition the data into training and testing splits using 75% of\n",
    "# the data for training and the remaining 25% for testing\n",
    "(trainX, testX, trainY, testY) = train_test_split(data, labels,\n",
    "    test_size=0.25, random_state=42)"
   ]
  },
  {
   "cell_type": "code",
   "execution_count": 12,
   "metadata": {},
   "outputs": [
    {
     "name": "stdout",
     "output_type": "stream",
     "text": [
      "[INFO] training k-NN classifier...\n"
     ]
    },
    {
     "data": {
      "text/plain": [
       "KNeighborsClassifier(algorithm='auto', leaf_size=30, metric='minkowski',\n",
       "           metric_params=None, n_jobs=-1, n_neighbors=3, p=2,\n",
       "           weights='uniform')"
      ]
     },
     "execution_count": 12,
     "metadata": {},
     "output_type": "execute_result"
    }
   ],
   "source": [
    "print(\"[INFO] training k-NN classifier...\")\n",
    "model = KNeighborsClassifier(n_neighbors=k, n_jobs= -1)\n",
    "model.fit(trainX, trainY)"
   ]
  },
  {
   "cell_type": "code",
   "execution_count": 13,
   "metadata": {},
   "outputs": [
    {
     "name": "stdout",
     "output_type": "stream",
     "text": [
      "[INFO] predicting with k-NN classifier...\n",
      "\n"
     ]
    }
   ],
   "source": [
    "print(\"[INFO] predicting with k-NN classifier...\\n\")\n",
    "predY = model.predict(testX)"
   ]
  },
  {
   "cell_type": "code",
   "execution_count": 14,
   "metadata": {},
   "outputs": [
    {
     "name": "stdout",
     "output_type": "stream",
     "text": [
      "Total accuracy score: 0.44\n"
     ]
    }
   ],
   "source": [
    "print(\"Total accuracy score: %.2f\" % accuracy_score(testY, predY))"
   ]
  },
  {
   "cell_type": "markdown",
   "metadata": {},
   "source": [
    "As we know there are 3 classes and they are evenly distributed, random guessing accuracy will produce 0.33 accuracy score, so even a simple algorithm like this one makes a difference"
   ]
  },
  {
   "cell_type": "code",
   "execution_count": 15,
   "metadata": {},
   "outputs": [
    {
     "name": "stdout",
     "output_type": "stream",
     "text": [
      "             precision    recall  f1-score   support\n",
      "\n",
      "       cats       0.41      0.58      0.48       262\n",
      "       dogs       0.38      0.47      0.42       249\n",
      "      panda       0.86      0.26      0.40       239\n",
      "\n",
      "avg / total       0.54      0.44      0.44       750\n",
      "\n"
     ]
    },
    {
     "data": {
      "image/png": "[encoded data removed]",
      "text/plain": [
       "<matplotlib.figure.Figure at 0x25d47093748>"
      ]
     },
     "metadata": {},
     "output_type": "display_data"
    }
   ],
   "source": [
    "%matplotlib inline\n",
    "\n",
    "# get classification report\n",
    "c_report = classification_report(testY, predY, target_names=le.classes_)\n",
    "print(c_report)\n",
    "\n",
    "plotClassificationReport(c_report)"
   ]
  },
  {
   "cell_type": "code",
   "execution_count": 16,
   "metadata": {},
   "outputs": [
    {
     "name": "stdout",
     "output_type": "stream",
     "text": [
      "Confusion Matrix: \n",
      " [[153 105   4]\n",
      " [127 116   6]\n",
      " [ 89  87  63]]\n"
     ]
    },
    {
     "data": {
      "image/png": "[encoded data removed]",
      "text/plain": [
       "<matplotlib.figure.Figure at 0x25d47093ba8>"
      ]
     },
     "metadata": {},
     "output_type": "display_data"
    }
   ],
   "source": [
    "# get confusion matrix\n",
    "matrix = confusion_matrix(testY, predY)\n",
    "print(\"Confusion Matrix: \\n\", matrix)\n",
    "\n",
    "# plot confusion matrix\n",
    "from utils.plot_utils import plotConfusionMatrix\n",
    "plotConfusionMatrix(matrix, le.classes_)"
   ]
  },
  {
   "cell_type": "markdown",
   "metadata": {},
   "source": [
    "## Optimization\n",
    "\n",
    "Using cross validation and grid search to optimize parameters"
   ]
  },
  {
   "cell_type": "code",
   "execution_count": 18,
   "metadata": {},
   "outputs": [
    {
     "name": "stdout",
     "output_type": "stream",
     "text": [
      "[INFO] Running classifier with k = 1\n",
      "[INFO] Score for k = 1: 0.45\n",
      "[INFO] Running classifier with k = 20\n",
      "[INFO] Score for k = 20: 0.50\n",
      "[INFO] Running classifier with k = 50\n",
      "[INFO] Score for k = 50: 0.51\n",
      "[INFO] Running classifier with k = 80\n",
      "[INFO] Score for k = 80: 0.52\n"
     ]
    }
   ],
   "source": [
    "from sklearn.model_selection import cross_val_score\n",
    "\n",
    "# search for an optimal value of K for KNN\n",
    "k_range = [1, 20, 50, 80]\n",
    "\n",
    "# work on all data instead of splitting it on train/test\n",
    "X = data\n",
    "y = labels\n",
    "\n",
    "k_scores = []\n",
    "for k in k_range:\n",
    "    knn = KNeighborsClassifier(n_neighbors=k, n_jobs=-1)\n",
    "    print('[INFO] Running classifier with k = %d' % k)\n",
    "    scores = cross_val_score(knn, X, y, cv=10, scoring='accuracy')\n",
    "    print('[INFO] Score for k = %d: %.2f' % (k,scores.mean()))\n",
    "    k_scores.append(scores.mean())"
   ]
  },
  {
   "cell_type": "code",
   "execution_count": 19,
   "metadata": {},
   "outputs": [
    {
     "data": {
      "image/png": "[encoded data removed]",
      "text/plain": [
       "<matplotlib.figure.Figure at 0x25d4ded7048>"
      ]
     },
     "metadata": {},
     "output_type": "display_data"
    }
   ],
   "source": [
    "max_score = max(k_scores)\n",
    "best_k = k_range[k_scores.index(max_score)]\n",
    "    \n",
    "# plot the value of K for KNN (x-axis) versus the cross-validated accuracy (y-axis)\n",
    "fig = plt.figure(figsize=(8,6))\n",
    "ax = fig.add_subplot(111)\n",
    "\n",
    "ax.plot(k_range, k_scores)\n",
    "ax.set_xlabel('Value of K for KNN')\n",
    "ax.set_ylabel('Cross-Validated Accuracy')\n",
    "ax.annotate('Max Score: %f for k=%d' %(max_score, best_k), xy=(best_k, max_score), xytext=(best_k - 2, max_score + 0.004),\n",
    "            arrowprops=dict(facecolor='green'),\n",
    "            )\n",
    "plt.show()"
   ]
  },
  {
   "cell_type": "markdown",
   "metadata": {},
   "source": [
    "We seem to be plateauing with k with a huge change producing just a 0.02 accuracy improvement\n",
    "There is also the weight parameter that we may want to tune, so let's use a more optimized method"
   ]
  },
  {
   "cell_type": "code",
   "execution_count": 20,
   "metadata": {},
   "outputs": [
    {
     "name": "stdout",
     "output_type": "stream",
     "text": [
      "Fitting 10 folds for each of 10 candidates, totalling 100 fits\n"
     ]
    },
    {
     "name": "stderr",
     "output_type": "stream",
     "text": [
      "[Parallel(n_jobs=4)]: Done  33 tasks      | elapsed:  3.1min\n",
      "[Parallel(n_jobs=4)]: Done 100 out of 100 | elapsed:  9.0min finished\n"
     ]
    },
    {
     "data": {
      "text/plain": [
       "RandomizedSearchCV(cv=10, error_score='raise',\n",
       "          estimator=KNeighborsClassifier(algorithm='auto', leaf_size=30, metric='minkowski',\n",
       "           metric_params=None, n_jobs=-1, n_neighbors=80, p=2,\n",
       "           weights='uniform'),\n",
       "          fit_params=None, iid=True, n_iter=10, n_jobs=4,\n",
       "          param_distributions={'n_neighbors': [10, 11, 12, 13, 14, 15, 16, 17, 18, 19, 20, 21, 22, 23, 24, 25, 26, 27, 28, 29, 30, 31, 32, 33, 34, 35, 36, 37, 38, 39, 40, 41, 42, 43, 44, 45, 46, 47, 48, 49, 50, 51, 52, 53, 54, 55, 56, 57, 58, 59, 60, 61, 62, 63, 64, 65, 66, 67, 68, 69, 70, 71, 72, 73, 74, 75,...87, 188, 189, 190, 191, 192, 193, 194, 195, 196, 197, 198, 199], 'weights': ['uniform', 'distance']},\n",
       "          pre_dispatch='2*n_jobs', random_state=None, refit=True,\n",
       "          return_train_score='warn', scoring='accuracy', verbose=2)"
      ]
     },
     "execution_count": 20,
     "metadata": {},
     "output_type": "execute_result"
    }
   ],
   "source": [
    "from sklearn.model_selection import RandomizedSearchCV\n",
    "\n",
    "# define the parameter values that should be searched\n",
    "k_range = list(range(10, 200))\n",
    "weight_options = ['uniform', 'distance']\n",
    "\n",
    "params = {\n",
    "    'n_neighbors' : k_range,\n",
    "    'weights' : weight_options\n",
    "}\n",
    "\n",
    "# n_iter controls the number of searches\n",
    "rand = RandomizedSearchCV(knn, params, cv=10, scoring='accuracy', n_iter=10, n_jobs=4, verbose=2)\n",
    "rand.fit(X, y)   "
   ]
  },
  {
   "cell_type": "code",
   "execution_count": 21,
   "metadata": {},
   "outputs": [
    {
     "name": "stdout",
     "output_type": "stream",
     "text": [
      "0.531333333333\n",
      "{'weights': 'uniform', 'n_neighbors': 117}\n"
     ]
    }
   ],
   "source": [
    "# examine the best model\n",
    "print(rand.best_score_)\n",
    "print(rand.best_params_)"
   ]
  },
  {
   "cell_type": "code",
   "execution_count": 27,
   "metadata": {},
   "outputs": [
    {
     "data": {
      "text/plain": [
       "[{'n_neighbors': 64, 'weights': 'distance'},\n",
       " {'n_neighbors': 117, 'weights': 'uniform'},\n",
       " {'n_neighbors': 73, 'weights': 'distance'},\n",
       " {'n_neighbors': 170, 'weights': 'uniform'},\n",
       " {'n_neighbors': 10, 'weights': 'distance'},\n",
       " {'n_neighbors': 189, 'weights': 'uniform'},\n",
       " {'n_neighbors': 171, 'weights': 'uniform'},\n",
       " {'n_neighbors': 114, 'weights': 'distance'},\n",
       " {'n_neighbors': 172, 'weights': 'uniform'},\n",
       " {'n_neighbors': 95, 'weights': 'distance'}]"
      ]
     },
     "execution_count": 27,
     "metadata": {},
     "output_type": "execute_result"
    }
   ],
   "source": [
    "# we can check the combinations that were used\n",
    "rand.cv_results_['params']"
   ]
  },
  {
   "cell_type": "markdown",
   "metadata": {},
   "source": [
    "Results may vary due to randomness of splits and the nature of the Randomized search but it seems we can achieve a maxium accuracy score in the low fifties (0.53 in our test run). However this model is not great for this type of problem as it keeps the entire dataset in memory for the prediction (as it actually doesn't learn anything). This can become impossible if the dataset is very large or if we pretend to scale this to a large number of users running predictions."
   ]
  },
  {
   "cell_type": "code",
   "execution_count": null,
   "metadata": {},
   "outputs": [],
   "source": []
  }
 ],
 "metadata": {
  "kernelspec": {
   "display_name": "Python 3",
   "language": "python",
   "name": "python3"
  },
  "language_info": {
   "codemirror_mode": {
    "name": "ipython",
    "version": 3
   },
   "file_extension": ".py",
   "mimetype": "text/x-python",
   "name": "python",
   "nbconvert_exporter": "python",
   "pygments_lexer": "ipython3",
   "version": "3.6.4"
  }
 },
 "nbformat": 4,
 "nbformat_minor": 2
}
