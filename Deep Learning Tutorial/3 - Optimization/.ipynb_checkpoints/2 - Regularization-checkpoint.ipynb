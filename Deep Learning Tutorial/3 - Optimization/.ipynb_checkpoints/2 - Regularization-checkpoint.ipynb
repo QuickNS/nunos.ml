{
 "cells": [
  {
   "cell_type": "code",
   "execution_count": 6,
   "metadata": {},
   "outputs": [],
   "source": [
    "# import the necessary packages\n",
    "from sklearn.linear_model import SGDClassifier\n",
    "from sklearn.preprocessing import LabelEncoder\n",
    "from sklearn.model_selection import train_test_split\n",
    "from ndl.preprocessing import SimplePreprocessor\n",
    "from ndl.datasets import SimpleDatasetLoader\n",
    "from imutils import paths"
   ]
  },
  {
   "cell_type": "code",
   "execution_count": 7,
   "metadata": {},
   "outputs": [
    {
     "name": "stdout",
     "output_type": "stream",
     "text": [
      "[INFO] processed 500/3000\n",
      "[INFO] processed 1000/3000\n",
      "[INFO] processed 1500/3000\n",
      "[INFO] processed 2000/3000\n",
      "[INFO] processed 2500/3000\n",
      "[INFO] processed 3000/3000\n"
     ]
    }
   ],
   "source": [
    "dataset = '../datasets/animals'\n",
    "\n",
    "imagePaths = list(paths.list_images(dataset))\n",
    "\n",
    "# initialize the image preprocessor, load the dataset from disk,\n",
    "# and reshape the data matrix\n",
    "sp = SimplePreprocessor(32, 32)\n",
    "sdl = SimpleDatasetLoader(preprocessors=[sp])\n",
    "(data, labels) = sdl.load(imagePaths, verbose=500)\n",
    "data = data.reshape((data.shape[0], 3072))"
   ]
  },
  {
   "cell_type": "code",
   "execution_count": 13,
   "metadata": {},
   "outputs": [],
   "source": [
    "# encode the labels as integers\n",
    "le = LabelEncoder()\n",
    "labels = le.fit_transform(labels)\n",
    "\n",
    "# partition the data into training and testing splits using 75% of\n",
    "# the data for training and the remaining 25% for testing\n",
    "(trainX, testX, trainY, testY) = train_test_split(data, labels,\n",
    "    test_size=0.25, random_state=42)"
   ]
  },
  {
   "cell_type": "markdown",
   "metadata": {},
   "source": [
    "### Now, let's try a few regularization techniques.  \n",
    "\n",
    "Regularization takes the form of a sum of the values in the W matrix.\n",
    "Then it is applied to the loss function with a 'lambda' parameter that determines the strength of regularization.\n",
    "\n",
    "- L1 - uses absolute value\n",
    "- L2 - aka weight decay - uses square values "
   ]
  },
  {
   "cell_type": "code",
   "execution_count": 19,
   "metadata": {},
   "outputs": [
    {
     "name": "stdout",
     "output_type": "stream",
     "text": [
      "[INFO] training model with `None` penalty\n",
      "[INFO] `None` penalty accuracy: 38.13%\n",
      "[INFO] training model with `l1` penalty\n",
      "[INFO] `l1` penalty accuracy: 41.20%\n",
      "[INFO] training model with `l2` penalty\n",
      "[INFO] `l2` penalty accuracy: 44.80%\n"
     ]
    }
   ],
   "source": [
    "# loop over our set of regularizers\n",
    "for r in (None, \"l1\", \"l2\"):\n",
    "    # train a SGD classifier using a softmax loss function and the\n",
    "    # specified regularization function for 10 epochs\n",
    "    print(\"[INFO] training model with `{}` penalty\".format(r))\n",
    "    model = SGDClassifier(loss=\"log\", penalty=r, max_iter=10,\n",
    "        learning_rate=\"constant\", eta0=0.01, random_state=1)\n",
    "    model.fit(trainX, trainY)\n",
    "\n",
    "    # evaluate the classifier\n",
    "    acc = model.score(testX, testY)\n",
    "    print(\"[INFO] `{}` penalty accuracy: {:.2f}%\".format(r,\n",
    "        acc * 100))"
   ]
  },
  {
   "cell_type": "markdown",
   "metadata": {},
   "source": [
    "This example is too small to show the real effect of regularization, but regularization can certainly provide a boost to testing accuracy and reduce overfitting, provided we can tune the hyperparameters correctly.\n",
    "\n",
    "**In gradient descent algorithms the important parameters to tune are the learning rate 'alpha' and the regularization 'lambda' parameter (as well as determining the best regularization method**"
   ]
  },
  {
   "cell_type": "code",
   "execution_count": null,
   "metadata": {},
   "outputs": [],
   "source": []
  }
 ],
 "metadata": {
  "kernelspec": {
   "display_name": "Python 3",
   "language": "python",
   "name": "python3"
  },
  "language_info": {
   "codemirror_mode": {
    "name": "ipython",
    "version": 3
   },
   "file_extension": ".py",
   "mimetype": "text/x-python",
   "name": "python",
   "nbconvert_exporter": "python",
   "pygments_lexer": "ipython3",
   "version": "3.6.4"
  }
 },
 "nbformat": 4,
 "nbformat_minor": 2
}
